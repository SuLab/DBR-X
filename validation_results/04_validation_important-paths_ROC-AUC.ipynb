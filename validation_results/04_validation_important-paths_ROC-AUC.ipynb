{
 "cells": [
  {
   "cell_type": "markdown",
   "id": "706e413c",
   "metadata": {},
   "source": [
    "### ROC-AUC"
   ]
  },
  {
   "cell_type": "code",
   "execution_count": 26,
   "id": "f6bb3e2a",
   "metadata": {},
   "outputs": [],
   "source": [
    "from src.cbr_trainer.query_dataloader import DataLoader\n",
    "from src.cbr_trainer.rgcn_model import HeteroRGCN\n",
    "from src.cbr_trainer.rgcn_model import HeteroRGCNLayer\n",
    "from src.important_paths.explainer import MaskExplainer\n",
    "from src.cbr_trainer.utils.dist_scr import L2Dist\n",
    "from collections import *\n",
    "\n",
    "import pandas as pd\n",
    "import os\n",
    "import torch\n",
    "from tqdm import tqdm\n",
    "import torch.nn as nn\n",
    "import numpy as np\n",
    "import dgl\n",
    "import torch.nn.functional as F\n",
    "from sklearn import metrics\n",
    "import matplotlib.pyplot as plt"
   ]
  },
  {
   "cell_type": "code",
   "execution_count": 2,
   "id": "b83316f4",
   "metadata": {},
   "outputs": [],
   "source": [
    "\n",
    "data_dir = \"data/MIND/\"\n",
    "data_name = \"MIND\"\n",
    "paths_file_dir = \"MIND_cbr_subgraph_knn-15_branch-1000.pkl\"\n",
    "device =  \"cuda\""
   ]
  },
  {
   "cell_type": "code",
   "execution_count": 3,
   "id": "f80860b7",
   "metadata": {},
   "outputs": [
    {
     "name": "stderr",
     "output_type": "stream",
     "text": [
      "05/01/2025 11:34:12 - INFO - root - Loading and processing graph data...\n",
      "05/01/2025 11:34:41 - INFO - root - Creating node mappings...\n",
      "05/01/2025 11:34:41 - INFO - root - Loading paths data...\n",
      "05/01/2025 11:34:44 - INFO - root - Processing CSV data...\n",
      "05/01/2025 11:34:44 - INFO - root - Processing path data...\n",
      "100%|█████████| 878/878 [00:01<00:00, 792.15it/s]\n",
      "05/01/2025 11:34:48 - INFO - root - Building node labels...\n",
      "05/01/2025 11:34:48 - INFO - root - Building train dataset...\n",
      "100%|██████████| 760/760 [07:13<00:00,  1.75it/s]\n",
      "05/01/2025 11:42:01 - INFO - root - Building test dataset...\n",
      "100%|██████████| 243/243 [02:50<00:00,  1.42it/s]\n",
      "05/01/2025 11:44:52 - INFO - root - Building dev dataset...\n",
      "100%|██████████| 116/116 [01:12<00:00,  1.60it/s]\n"
     ]
    }
   ],
   "source": [
    "# Initialize data loader\n",
    "dataset_obj = DataLoader(data_dir, \n",
    "                         data_name, \n",
    "                         paths_file_dir)"
   ]
  },
  {
   "cell_type": "code",
   "execution_count": 4,
   "id": "a7cbde9d",
   "metadata": {},
   "outputs": [],
   "source": [
    "model_path = 'link_prediction_results/MIND/model/'\n",
    "model_name = 'best_model_MIND_021624.pth'\n",
    "\n",
    "model_dir = os.path.join(model_path, model_name)\n"
   ]
  },
  {
   "cell_type": "code",
   "execution_count": null,
   "id": "89301a98",
   "metadata": {},
   "outputs": [],
   "source": [
    "model = torch.load(model_dir, map_location=device)\n",
    "model.to(device)\n",
    "model.eval()"
   ]
  },
  {
   "cell_type": "code",
   "execution_count": 6,
   "id": "5cd51733",
   "metadata": {},
   "outputs": [],
   "source": [
    "from types import SimpleNamespace\n",
    "args_dict = {\n",
    "\"lr_\" :0.1,\n",
    "\"num_epochs\": 10,\n",
    "\"penalty\" : 1.0,\n",
    "\"degree_thr\" :10,\n",
    "\"split\": \"test\",\n",
    "\"alpha\": 1.0,\n",
    "\"beta\": 1.0}\n",
    "args = SimpleNamespace(**args_dict)\n"
   ]
  },
  {
   "cell_type": "code",
   "execution_count": 7,
   "id": "a38228ec",
   "metadata": {},
   "outputs": [],
   "source": [
    "nodes_mapping = dataset_obj.nodes_mapping\n",
    "if args.split == \"test\":\n",
    "        drug_dis_train = [(item[\"seed_entities\"][0], ans) for item in dataset_obj.raw_test_data for ans in item[\"answer\"]]\n",
    "    "
   ]
  },
  {
   "cell_type": "code",
   "execution_count": 8,
   "id": "bbe28faa",
   "metadata": {},
   "outputs": [],
   "source": [
    "# Initialize explainer\n",
    "explainer = MaskExplainer(model, device, args, args.split)"
   ]
  },
  {
   "cell_type": "code",
   "execution_count": 9,
   "id": "9aeeec0b",
   "metadata": {},
   "outputs": [],
   "source": [
    "#Load true indications from DMDB\n",
    "\n",
    "dmdb_paths= pd.read_pickle(\"data/DMDB_ground-truth_paths.pkl\")\n",
    "                           \n",
    "dmdb_pairs = set()\n",
    "for drug_id,dis_id in zip(dmdb_paths[\"mrn_drug\"], dmdb_paths[\"mrn_dis\"]):\n",
    "    dmdb_pairs.add((drug_id,dis_id ))"
   ]
  },
  {
   "cell_type": "markdown",
   "id": "17446620",
   "metadata": {},
   "source": [
    "Calculate ROC-AUC"
   ]
  },
  {
   "cell_type": "code",
   "execution_count": 13,
   "id": "2e6c06f6",
   "metadata": {},
   "outputs": [],
   "source": [
    "mrn_nodes = pd.DataFrame(dataset_obj.node_labels.items(), columns=['id', 'label']) "
   ]
  },
  {
   "cell_type": "code",
   "execution_count": 15,
   "id": "f4d25a21",
   "metadata": {},
   "outputs": [],
   "source": [
    "def get_homid (graph, id_, ntype_hetero_nids_to_homo_nids):\n",
    "    \"\"\"\n",
    "    Get hom for a given node\n",
    "    \"\"\"\n",
    "\n",
    "    label = mrn_nodes[mrn_nodes['id'] == id_]['label'].iloc[0]\n",
    "    global_index = nodes_mapping[label][0][id_]\n",
    "    local_index = np.where(graph.nodes[label][0][\"_ID\"].cpu().numpy() == global_index)[0].item()\n",
    "\n",
    "    homogeneous_index =  ntype_hetero_nids_to_homo_nids[(label, local_index)]\n",
    "    \n",
    "    return homogeneous_index"
   ]
  },
  {
   "cell_type": "code",
   "execution_count": 18,
   "id": "4c8f1d2c",
   "metadata": {},
   "outputs": [],
   "source": [
    "auc_results = defaultdict(list)\n",
    "all_true_mask = []\n",
    "all_pred_mask =  []"
   ]
  },
  {
   "cell_type": "code",
   "execution_count": null,
   "id": "5e80b8cb",
   "metadata": {
    "scrolled": true
   },
   "outputs": [],
   "source": [
    "for drug_id, dis_id in tqdm(dmdb_pairs):\n",
    "    try:\n",
    "        orig_pred, ml_ghomo, ml_eweight_dict, ml_ghomo_eweights, ntype_hetero_nids_to_homo_nids, nn_graph, nn_idx, paths = explainer.explain(drug_id, \n",
    "                                                                                                       dis_id, \n",
    "                                                                                                       dataset_obj, \n",
    "                                                                                                        True, \n",
    "                                                                                                        args.split)\n",
    "    \n",
    "    \n",
    "    except:\n",
    "        continue\n",
    "    nn_graph[0].edata['eweight'] = ml_eweight_dict\n",
    "    # convert ghetero to ghomo and find paths\n",
    "    ghomo = dgl.to_homogeneous( nn_graph[0], edata=['eweight'])\n",
    "    \n",
    "    \n",
    "    \n",
    "    pred_mask = ghomo.edata[\"eweight\"].tolist()\n",
    "    all_pred_mask.append(pred_mask)\n",
    "    \n",
    "    \n",
    "    #DMDB true paths\n",
    "    dmdb_paths_query= dmdb_paths.query(\"mrn_drug == @drug_id & mrn_dis == @dis_id\")['path_mrn'].to_list()\n",
    "\n",
    "    #extract true paths as edges \n",
    "    dmdb_edges_query = []\n",
    "    for input_list in dmdb_paths_query:\n",
    "        for edge in [(input_list[i], input_list[i + 1]) for i in range(len(input_list) - 1)]: \n",
    "            dmdb_edges_query.append(edge)\n",
    "            \n",
    "    \n",
    "    \n",
    "    \n",
    "    u,v = ml_ghomo.edges()\n",
    "    true_id_edge = []\n",
    "    for edge in dmdb_edges_query: \n",
    "        # print(edge)\n",
    "        src_id,tgt_id = edge[0], edge[1]\n",
    "    \n",
    "        homo_src, homo_tgt = get_homid (nn_graph[0],src_id, ntype_hetero_nids_to_homo_nids), get_homid (nn_graph[0], tgt_id, ntype_hetero_nids_to_homo_nids) #homo identifier\n",
    "        \n",
    "        #get mask index for (homo_src,homo_tgt) edge\n",
    "        src_edges = np.where(u.cpu().numpy() == homo_src)\n",
    "        tgt_edges = np.where(v.cpu().numpy() == homo_tgt)\n",
    "    \n",
    "    \n",
    "        for i in np.intersect1d(src_edges, tgt_edges).tolist(): \n",
    "            # print(pred_mask[i])\n",
    "            true_id_edge.append(i)\n",
    "            \n",
    "    true_mask = np.zeros(len(ghomo.edata[\"eweight\"].tolist()))\n",
    "    true_mask[true_id_edge]=1\n",
    "    \n",
    "    all_true_mask.append(true_mask)\n",
    "\n",
    "    fpr, tpr, thresholds = metrics.roc_curve(true_mask, ghomo.edata[\"eweight\"].tolist(), pos_label=1)\n",
    "    roc_auc = metrics.auc(fpr, tpr)\n",
    "    \n",
    "    #save\n",
    "    auc_results[(drug_id, dis_id)].append(roc_auc)\n",
    "    print(\"AUC mean: \", np.mean([i[0] for i in auc_results.values() if i[0] != \"None\"]))\n",
    "    "
   ]
  },
  {
   "cell_type": "code",
   "execution_count": null,
   "id": "36cae68a",
   "metadata": {},
   "outputs": [],
   "source": []
  },
  {
   "cell_type": "code",
   "execution_count": 30,
   "id": "eb0c06ef",
   "metadata": {},
   "outputs": [
    {
     "data": {
      "image/png": "[encoded data removed]",
      "text/plain": [
       "<Figure size 800x600 with 1 Axes>"
      ]
     },
     "metadata": {},
     "output_type": "display_data"
    }
   ],
   "source": [
    "#Concatenate results for all queries \n",
    "all_true_mask_conct = np.concatenate(all_true_mask, axis=0, out=None)\n",
    "all_pred_mask_conct = np.concatenate(all_pred_mask, axis=0, out=None)\n",
    "fpr, tpr, thresholds = metrics.roc_curve(all_true_mask_conct, all_pred_mask_conct, pos_label=1)\n",
    "roc_auc = metrics.auc(fpr, tpr)\n",
    "roc_auc\n",
    "\n",
    "\n",
    "# Plotting\n",
    "plt.figure(figsize=(8, 6))\n",
    "plt.plot(fpr, tpr, color='darkorange', lw=2, label=f'ROC curve (AUC = {roc_auc:.2f})')\n",
    "plt.plot([0, 1], [0, 1], color='navy', lw=2, linestyle='--', label='Chance')\n",
    "plt.xlim([0.0, 1.0])\n",
    "plt.ylim([0.0, 1.05])\n",
    "plt.xlabel('False Positive Rate')\n",
    "plt.ylabel('True Positive Rate')\n",
    "plt.title('Receiver Operating Characteristic (ROC)')\n",
    "plt.legend(loc=\"lower right\")\n",
    "plt.grid(True)\n",
    "plt.tight_layout()\n",
    "plt.show()"
   ]
  },
  {
   "cell_type": "code",
   "execution_count": null,
   "id": "8acdd3f0",
   "metadata": {},
   "outputs": [],
   "source": []
  }
 ],
 "metadata": {
  "kernelspec": {
   "display_name": "Python 3 (ipykernel)",
   "language": "python",
   "name": "python3"
  },
  "language_info": {
   "codemirror_mode": {
    "name": "ipython",
    "version": 3
   },
   "file_extension": ".py",
   "mimetype": "text/x-python",
   "name": "python",
   "nbconvert_exporter": "python",
   "pygments_lexer": "ipython3",
   "version": "3.12.3"
  }
 },
 "nbformat": 4,
 "nbformat_minor": 5
}
