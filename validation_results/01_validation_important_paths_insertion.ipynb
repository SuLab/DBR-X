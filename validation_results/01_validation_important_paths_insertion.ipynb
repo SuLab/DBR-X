{
 "cells": [
  {
   "cell_type": "markdown",
   "id": "99673752",
   "metadata": {},
   "source": [
    "### Validation important connections"
   ]
  },
  {
   "cell_type": "markdown",
   "id": "0ad2034d",
   "metadata": {},
   "source": [
    "For each drug-disease indication subgraph, apply a training mask to rank connection importance. After ranking, maintain the sorted important connections and evaluate whether prediction performance remains consistent. Implement a sliding window approach with a 10% window size and 2% incremental steps for each evaluation step"
   ]
  },
  {
   "cell_type": "code",
   "execution_count": 1,
   "id": "26020142",
   "metadata": {},
   "outputs": [],
   "source": [
    "from src.cbr_trainer.query_dataloader import DataLoader\n",
    "from src.cbr_trainer.rgcn_model import HeteroRGCN\n",
    "from src.cbr_trainer.rgcn_model import HeteroRGCNLayer\n",
    "from src.important_paths.explainer import MaskExplainer\n",
    "from src.cbr_trainer.utils.dist_scr import L2Dist\n",
    "from collections import *\n",
    "\n",
    "import pandas as pd\n",
    "import os\n",
    "import torch\n",
    "from tqdm import tqdm\n",
    "import torch.nn as nn\n",
    "import numpy as np\n",
    "import dgl\n",
    "import torch.nn.functional as F"
   ]
  },
  {
   "cell_type": "code",
   "execution_count": 2,
   "id": "feaea30d",
   "metadata": {},
   "outputs": [],
   "source": [
    "data_dir = \"data/MIND/\"\n",
    "data_name = \"MIND\"\n",
    "paths_file_dir = \"MIND_cbr_subgraph_knn-15_branch-1000.pkl\"\n",
    "device =  \"cuda\""
   ]
  },
  {
   "cell_type": "code",
   "execution_count": 3,
   "id": "bd30cc74",
   "metadata": {},
   "outputs": [
    {
     "name": "stderr",
     "output_type": "stream",
     "text": [
      "04/30/2025 16:22:41 - INFO - root - Loading and processing graph data...\n",
      "04/30/2025 16:23:11 - INFO - root - Creating node mappings...\n",
      "04/30/2025 16:23:11 - INFO - root - Loading paths data...\n",
      "04/30/2025 16:23:12 - INFO - root - Processing CSV data...\n",
      "04/30/2025 16:23:13 - INFO - root - Processing path data...\n",
      "100%|█████████| 878/878 [00:01<00:00, 801.16it/s]\n",
      "04/30/2025 16:23:17 - INFO - root - Building node labels...\n",
      "04/30/2025 16:23:17 - INFO - root - Building train dataset...\n",
      "100%|██████████| 760/760 [06:38<00:00,  1.91it/s]\n",
      "04/30/2025 16:29:55 - INFO - root - Building test dataset...\n",
      "100%|██████████| 243/243 [02:32<00:00,  1.59it/s]\n",
      "04/30/2025 16:32:28 - INFO - root - Building dev dataset...\n",
      "100%|██████████| 116/116 [01:12<00:00,  1.61it/s]\n"
     ]
    }
   ],
   "source": [
    "# Initialize data loader\n",
    "dataset_obj = DataLoader(data_dir, \n",
    "                         data_name, \n",
    "                         paths_file_dir)"
   ]
  },
  {
   "cell_type": "code",
   "execution_count": 10,
   "id": "7a721168",
   "metadata": {},
   "outputs": [],
   "source": [
    "model_path = 'link_prediction_results/MIND/model/'\n",
    "model_name = 'best_model_MIND_021624.pth'\n",
    "\n",
    "model_dir = os.path.join(model_path, model_name)\n"
   ]
  },
  {
   "cell_type": "code",
   "execution_count": null,
   "id": "71e9dc34",
   "metadata": {},
   "outputs": [],
   "source": [
    "model = torch.load(model_dir, map_location=device)\n",
    "model.to(device)\n",
    "model.eval()"
   ]
  },
  {
   "cell_type": "code",
   "execution_count": 12,
   "id": "0fd46bfa",
   "metadata": {},
   "outputs": [],
   "source": [
    "from types import SimpleNamespace\n",
    "args_dict = {\n",
    "\"lr_\" :0.1,\n",
    "\"num_epochs\": 10,\n",
    "\"penalty\" : 1.0,\n",
    "\"degree_thr\" :10,\n",
    "\"split\": \"train\",\n",
    "\"alpha\": 1.0,\n",
    "\"beta\": 1.0}\n",
    "args = SimpleNamespace(**args_dict)\n"
   ]
  },
  {
   "cell_type": "code",
   "execution_count": 13,
   "id": "1c191074",
   "metadata": {},
   "outputs": [],
   "source": [
    "nodes_mapping = dataset_obj.nodes_mapping\n",
    "if args.split == \"train\":\n",
    "        drug_dis_train = [(item[\"seed_entities\"][0], ans) for item in dataset_obj.raw_train_data for ans in item[\"answer\"]]\n",
    "    "
   ]
  },
  {
   "cell_type": "code",
   "execution_count": 14,
   "id": "6ddec461",
   "metadata": {},
   "outputs": [],
   "source": [
    "# Initialize explainer\n",
    "explainer = MaskExplainer(model, device, args, args.split)"
   ]
  },
  {
   "cell_type": "code",
   "execution_count": null,
   "id": "5ef14915",
   "metadata": {},
   "outputs": [],
   "source": []
  },
  {
   "cell_type": "code",
   "execution_count": 21,
   "id": "b85833d2",
   "metadata": {},
   "outputs": [],
   "source": [
    "pdist = nn.PairwiseDistance(p=2)\n",
    "\n",
    "def window_list(comp_g_paths, window_percentage):\n",
    "    # Calculate the window size based on the percentage\n",
    "    window_size = int(len(comp_g_paths) * window_percentage / 100)\n",
    "\n",
    "    if window_size < 1:\n",
    "        raise ValueError(\"Window size cannot be less than 1\")\n",
    "\n",
    "    i = 0\n",
    "    all_window_paths = []\n",
    "    all_complement_paths = []\n",
    "\n",
    "    while i < len(comp_g_paths) - window_size + 1:\n",
    "        window = comp_g_paths[i: i + window_size]\n",
    "        all_window_paths.append(window)\n",
    "\n",
    "        # Calculate the complement list\n",
    "        complement = comp_g_paths[:i] + comp_g_paths[i + window_size:]\n",
    "        all_complement_paths.append(complement)\n",
    "\n",
    "        i += max(1, int(len(comp_g_paths) * 0.2/ 100))  #0.2% overlap with the next window\n",
    "\n",
    "    return all_window_paths, all_complement_paths\n",
    "\n",
    "def keep_top_edges (orig_pred,\n",
    "                      ml_ghomo,\n",
    "                      ml_ghomo_eweights,\n",
    "                     homo_nids_to_hetero_nids,\n",
    "                     nn_graph,\n",
    "                     disease_label, \n",
    "                     dis_id,\n",
    "                     nn_idx): \n",
    "    \n",
    "    pdist_res = defaultdict(list)\n",
    "    all_sort_res = defaultdict(list)\n",
    "\n",
    "    sort_imp_edges = np.argsort(np.array(ml_ghomo_eweights.detach().cpu()))[::-1].tolist()\n",
    "    all_window_paths, all_complement_paths = window_list(sort_imp_edges, 10)\n",
    "    sets = all_complement_paths\n",
    "    sets = sets[:50]\n",
    "\n",
    "    for step in tqdm(range(len(sets))):\n",
    "        # Slice the list to get the current x elements\n",
    "        test_edges = sets[step]\n",
    "        edge_index_dict= defaultdict(list)\n",
    "        test_graph = nn_graph[0]\n",
    "        \n",
    "        for edge_ in (test_edges):\n",
    "            src_homo, tgt_homo = ml_ghomo.edges()[0][edge_].item(), ml_ghomo.edges()[1][edge_].item()\n",
    "            src_htr_label, src_htr_label_idx = homo_nids_to_hetero_nids[src_homo][0], homo_nids_to_hetero_nids[src_homo][1]\n",
    "            tgt_htr_label, tgt_htr_label_idx = homo_nids_to_hetero_nids[tgt_homo][0], homo_nids_to_hetero_nids[tgt_homo][1]\n",
    "            \n",
    "            for src_ntype, i, tgt_ntype in test_graph.canonical_etypes:\n",
    "                if src_ntype == src_htr_label and tgt_ntype == tgt_htr_label:\n",
    "                    \n",
    "                    try:\n",
    "                        edge_idx = test_graph.edge_ids(src_htr_label_idx, tgt_htr_label_idx, etype = i)\n",
    "                        edge_index_dict[i].append(edge_idx)\n",
    "                    except: \n",
    "                        continue\n",
    "         \n",
    "        for rel in edge_index_dict:\n",
    "            test_graph = dgl.remove_edges(test_graph, torch.tensor(edge_index_dict[rel], device=test_graph.device), rel)\n",
    "            \n",
    "        #get distance for ans of interest \n",
    "        global_idx_map = nodes_mapping[disease_label][0][dis_id]  #global index\n",
    "        local_idx_map = np.where(test_graph.nodes[disease_label][0][\"_ID\"].cpu() == global_idx_map)\n",
    "        local_idx_map = torch.tensor(local_idx_map[0], device=device)  # Convert and move to device\n",
    "\n",
    "\n",
    "        \n",
    "        list_graphs = []\n",
    "        list_graphs.extend([test_graph] + [i for i in nn_graph[1:]])\n",
    "        \n",
    "        #get distance prediction \n",
    "        dists_pred_int_top_path, pred_top_edg = explainer.model_cbr_dists(list_graphs, \n",
    "                                                                          nn_idx, \n",
    "                                                                          local_idx_map,\n",
    "                                                                         \"Disease\",\n",
    "                                                                         device)\n",
    "\n",
    "        res = dists_pred_int_top_path[local_idx_map][0].item()\n",
    "\n",
    "        res_sim = pdist(orig_pred, pred_top_edg)\n",
    "        pdist_res[step].append(res_sim[0].item())\n",
    "    \n",
    "    #save results\n",
    "    pdist_res_vals = [i[0] for i in pdist_res.values()]\n",
    "    sort_res = np.argsort(np.array(pdist_res_vals))[::-1].tolist() #sorted index  of important paths\n",
    "    # pdist_res_vals_sort  = [pdist_res_vals[i] for i in sort_res] #sort dist\n",
    "    \n",
    "    return sort_res, pdist_res_vals"
   ]
  },
  {
   "cell_type": "code",
   "execution_count": 22,
   "id": "bdf7cf4d",
   "metadata": {},
   "outputs": [],
   "source": [
    "all_sort_idx = defaultdict(list)\n",
    "all_sort_dist = defaultdict(list)"
   ]
  },
  {
   "cell_type": "code",
   "execution_count": null,
   "id": "363c31a9",
   "metadata": {
    "scrolled": true
   },
   "outputs": [],
   "source": [
    "for drug_id, dis_id in tqdm(drug_dis_train):\n",
    "        orig_pred, ml_ghomo, ml_eweight_dict, ml_ghomo_eweights, ntype_hetero_nids_to_homo_nids, nn_graph, nn_idx, paths = explainer.explain(drug_id, \n",
    "                                                                                                       dis_id, \n",
    "                                                                                                       dataset_obj, \n",
    "                                                                                                       True)\n",
    "        \n",
    "        ml_ghomo = dgl.to_homogeneous(nn_graph[0], edata= [\"eweight\"])\n",
    "        homo_nids_to_hetero_nids = {v: k for k, v in ntype_hetero_nids_to_homo_nids.items()}\n",
    "        \n",
    "        #analize removing sorted connections\n",
    "        \n",
    "        sort_res, pdist_res_vals_sort = keep_top_edges(orig_pred,\n",
    "                                                        ml_ghomo,\n",
    "                                                         ml_ghomo_eweights, \n",
    "                                                         homo_nids_to_hetero_nids,\n",
    "                                                          nn_graph,\n",
    "                                                          \"Disease\",\n",
    "                                                          dis_id,\n",
    "                                                          nn_idx)\n",
    "        all_sort_idx[(drug_id,dis_id )].append(sort_res)\n",
    "        all_sort_dist[(drug_id,dis_id )].append(pdist_res_vals_sort)"
   ]
  },
  {
   "cell_type": "code",
   "execution_count": null,
   "id": "c15aeaac",
   "metadata": {},
   "outputs": [],
   "source": []
  },
  {
   "cell_type": "code",
   "execution_count": null,
   "id": "ace67050",
   "metadata": {},
   "outputs": [],
   "source": []
  },
  {
   "cell_type": "code",
   "execution_count": null,
   "id": "96b12b8a",
   "metadata": {},
   "outputs": [],
   "source": []
  },
  {
   "cell_type": "markdown",
   "id": "d2865aeb",
   "metadata": {},
   "source": [
    "### Visualization"
   ]
  },
  {
   "cell_type": "code",
   "execution_count": 28,
   "id": "7b67a8c8",
   "metadata": {},
   "outputs": [],
   "source": [
    "all_sort_dist_norm = defaultdict(list)\n",
    "\n",
    "for pair in all_sort_dist: \n",
    "    norm_res = [i for i in all_sort_dist[pair]]\n",
    "    \n",
    "    all_sort_dist_norm[(pair)].append(norm_res)"
   ]
  },
  {
   "cell_type": "code",
   "execution_count": 29,
   "id": "46885c54",
   "metadata": {},
   "outputs": [],
   "source": [
    "dist_split = dict()\n",
    "for split in range(50): \n",
    "    dist_split[split] = ([all_sort_dist_norm[i][0][0][split] for i in all_sort_dist_norm])\n",
    "df = pd.DataFrame(dist_split)"
   ]
  },
  {
   "cell_type": "code",
   "execution_count": 30,
   "id": "ea9d27b8",
   "metadata": {},
   "outputs": [
    {
     "name": "stderr",
     "output_type": "stream",
     "text": [
      "04/30/2025 17:58:16 - INFO - matplotlib.category - Using categorical units to plot a list of strings that are all parsable as floats or dates. If these strings should be plotted as numbers, cast to the appropriate data type before plotting.\n",
      "04/30/2025 17:58:16 - INFO - matplotlib.category - Using categorical units to plot a list of strings that are all parsable as floats or dates. If these strings should be plotted as numbers, cast to the appropriate data type before plotting.\n",
      "04/30/2025 17:58:17 - INFO - matplotlib.category - Using categorical units to plot a list of strings that are all parsable as floats or dates. If these strings should be plotted as numbers, cast to the appropriate data type before plotting.\n",
      "04/30/2025 17:58:17 - INFO - matplotlib.category - Using categorical units to plot a list of strings that are all parsable as floats or dates. If these strings should be plotted as numbers, cast to the appropriate data type before plotting.\n"
     ]
    },
    {
     "data": {
      "image/png": "[encoded data removed]",
      "text/plain": [
       "<Figure size 640x480 with 1 Axes>"
      ]
     },
     "metadata": {},
     "output_type": "display_data"
    }
   ],
   "source": [
    "import seaborn as sns\n",
    "g = sns.boxplot(dist_split, showfliers=False)\n",
    "h = sns.stripplot(dist_split, alpha = 0.2)"
   ]
  },
  {
   "cell_type": "code",
   "execution_count": null,
   "id": "a29d2c42",
   "metadata": {},
   "outputs": [],
   "source": []
  },
  {
   "cell_type": "code",
   "execution_count": null,
   "id": "6e1eda94",
   "metadata": {},
   "outputs": [],
   "source": []
  }
 ],
 "metadata": {
  "kernelspec": {
   "display_name": "Python 3 (ipykernel)",
   "language": "python",
   "name": "python3"
  },
  "language_info": {
   "codemirror_mode": {
    "name": "ipython",
    "version": 3
   },
   "file_extension": ".py",
   "mimetype": "text/x-python",
   "name": "python",
   "nbconvert_exporter": "python",
   "pygments_lexer": "ipython3",
   "version": "3.12.3"
  }
 },
 "nbformat": 4,
 "nbformat_minor": 5
}
