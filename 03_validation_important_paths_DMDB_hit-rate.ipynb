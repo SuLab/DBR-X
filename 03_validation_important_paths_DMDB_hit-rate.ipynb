{
 "cells": [
  {
   "cell_type": "markdown",
   "id": "2c83e9a8",
   "metadata": {},
   "source": [
    "## Hit-Rate\n",
    "Evaluation at different ranking positions showing the proportion of DrugMechDB ground truth edges captured at various thresholds."
   ]
  },
  {
   "cell_type": "code",
   "execution_count": 1,
   "id": "f6bb3e2a",
   "metadata": {},
   "outputs": [],
   "source": [
    "from src.cbr_trainer.query_dataloader import DataLoader\n",
    "from src.cbr_trainer.rgcn_model import HeteroRGCN\n",
    "from src.cbr_trainer.rgcn_model import HeteroRGCNLayer\n",
    "from src.important_paths.explainer import MaskExplainer\n",
    "from src.cbr_trainer.utils.dist_scr import L2Dist\n",
    "from collections import *\n",
    "\n",
    "import pandas as pd\n",
    "import os\n",
    "import torch\n",
    "from tqdm import tqdm\n",
    "import torch.nn as nn\n",
    "import numpy as np\n",
    "import dgl\n",
    "import torch.nn.functional as F"
   ]
  },
  {
   "cell_type": "code",
   "execution_count": 2,
   "id": "b83316f4",
   "metadata": {},
   "outputs": [],
   "source": [
    "\n",
    "data_dir = \"data/MIND/\"\n",
    "data_name = \"MIND\"\n",
    "paths_file_dir = \"MIND_cbr_subgraph_knn-15_branch-1000.pkl\"\n",
    "device =  \"cuda\""
   ]
  },
  {
   "cell_type": "code",
   "execution_count": 3,
   "id": "f80860b7",
   "metadata": {},
   "outputs": [
    {
     "name": "stderr",
     "output_type": "stream",
     "text": [
      "05/01/2025 09:21:47 - INFO - root - Loading and processing graph data...\n",
      "05/01/2025 09:22:13 - INFO - root - Creating node mappings...\n",
      "05/01/2025 09:22:13 - INFO - root - Loading paths data...\n",
      "05/01/2025 09:22:14 - INFO - root - Processing CSV data...\n",
      "05/01/2025 09:22:15 - INFO - root - Processing path data...\n",
      "100%|█████████| 878/878 [00:01<00:00, 786.13it/s]\n",
      "05/01/2025 09:22:18 - INFO - root - Building node labels...\n",
      "05/01/2025 09:22:18 - INFO - root - Building train dataset...\n",
      "100%|██████████| 760/760 [06:32<00:00,  1.94it/s]\n",
      "05/01/2025 09:28:51 - INFO - root - Building test dataset...\n",
      "100%|██████████| 243/243 [02:33<00:00,  1.58it/s]\n",
      "05/01/2025 09:31:25 - INFO - root - Building dev dataset...\n",
      "100%|██████████| 116/116 [01:12<00:00,  1.60it/s]\n"
     ]
    }
   ],
   "source": [
    "# Initialize data loader\n",
    "dataset_obj = DataLoader(data_dir, \n",
    "                         data_name, \n",
    "                         paths_file_dir)"
   ]
  },
  {
   "cell_type": "code",
   "execution_count": 4,
   "id": "a7cbde9d",
   "metadata": {},
   "outputs": [],
   "source": [
    "model_path = 'link_prediction_results/MIND/model/'\n",
    "model_name = 'best_model_MIND_021624.pth'\n",
    "\n",
    "model_dir = os.path.join(model_path, model_name)\n"
   ]
  },
  {
   "cell_type": "code",
   "execution_count": 5,
   "id": "89301a98",
   "metadata": {},
   "outputs": [
    {
     "name": "stderr",
     "output_type": "stream",
     "text": [
      "/tmp/ipykernel_1916608/3725338474.py:1: FutureWarning: You are using `torch.load` with `weights_only=False` (the current default value), which uses the default pickle module implicitly. It is possible to construct malicious pickle data which will execute arbitrary code during unpickling (See https://github.com/pytorch/pytorch/blob/main/SECURITY.md#untrusted-models for more details). In a future release, the default value for `weights_only` will be flipped to `True`. This limits the functions that could be executed during unpickling. Arbitrary objects will no longer be allowed to be loaded via this mode unless they are explicitly allowlisted by the user via `torch.serialization.add_safe_globals`. We recommend you start setting `weights_only=True` for any use case where you don't have full control of the loaded file. Please open an issue on GitHub for any issues related to this experimental feature.\n",
      "  model = torch.load(model_dir, map_location=device)\n"
     ]
    },
    {
     "data": {
      "text/plain": [
       "HeteroRGCN(\n",
       "  (emb): HeteroEmbedding(\n",
       "    (embeds): ModuleDict(\n",
       "      (AnatomicalEntity): Embedding(3577, 128)\n",
       "      (BiologicalProcessOrActivity): Embedding(21062, 128)\n",
       "      (ChemicalSubstance): Embedding(40739, 128)\n",
       "      (Disease): Embedding(13945, 128)\n",
       "      (MacromolecularMachine): Embedding(128294, 128)\n",
       "      (OrganismTaxon): Embedding(9762, 128)\n",
       "      (Pathway): Embedding(5363, 128)\n",
       "      (PhenotypicFeature): Embedding(5428, 128)\n",
       "    )\n",
       "  )\n",
       "  (layer1): HeteroRGCNLayer(\n",
       "    (weight0): Linear(in_features=128, out_features=128, bias=True)\n",
       "    (weight): ModuleDict(\n",
       "      (associated_with_AawD): Linear(in_features=128, out_features=128, bias=True)\n",
       "      (associated_with_AawP): Linear(in_features=128, out_features=128, bias=True)\n",
       "      (site_of_AsoD): Linear(in_features=128, out_features=128, bias=True)\n",
       "      (site_of_AsoPW): Linear(in_features=128, out_features=128, bias=True)\n",
       "      (affects_BPafD): Linear(in_features=128, out_features=128, bias=True)\n",
       "      (associated_with_BPawD): Linear(in_features=128, out_features=128, bias=True)\n",
       "      (associated_with_BPawP): Linear(in_features=128, out_features=128, bias=True)\n",
       "      (causes_BPcD): Linear(in_features=128, out_features=128, bias=True)\n",
       "      (in_taxon_BPitT): Linear(in_features=128, out_features=128, bias=True)\n",
       "      (marker_or_mechanism_BPmD): Linear(in_features=128, out_features=128, bias=True)\n",
       "      (produces_BPpA): Linear(in_features=128, out_features=128, bias=True)\n",
       "      (treats_BPtD): Linear(in_features=128, out_features=128, bias=True)\n",
       "      (treats_BPtP): Linear(in_features=128, out_features=128, bias=True)\n",
       "      (affects_CafBP): Linear(in_features=128, out_features=128, bias=True)\n",
       "      (affects_CafG): Linear(in_features=128, out_features=128, bias=True)\n",
       "      (associated_with_CawD): Linear(in_features=128, out_features=128, bias=True)\n",
       "      (associated_with_CawG): Linear(in_features=128, out_features=128, bias=True)\n",
       "      (associated_with_CawPW): Linear(in_features=128, out_features=128, bias=True)\n",
       "      (indication): Linear(in_features=128, out_features=128, bias=True)\n",
       "      (marker_or_mechanism_CmD): Linear(in_features=128, out_features=128, bias=True)\n",
       "      (palliates_CplD): Linear(in_features=128, out_features=128, bias=True)\n",
       "      (palliates_CplP): Linear(in_features=128, out_features=128, bias=True)\n",
       "      (part_of_CpoA): Linear(in_features=128, out_features=128, bias=True)\n",
       "      (part_of_CpoBP): Linear(in_features=128, out_features=128, bias=True)\n",
       "      (part_of_CpoG): Linear(in_features=128, out_features=128, bias=True)\n",
       "      (part_of_CpoPW): Linear(in_features=128, out_features=128, bias=True)\n",
       "      (prevents_CpvD): Linear(in_features=128, out_features=128, bias=True)\n",
       "      (produces_CpG): Linear(in_features=128, out_features=128, bias=True)\n",
       "      (treats_CtD): Linear(in_features=128, out_features=128, bias=True)\n",
       "      (treats_CtP): Linear(in_features=128, out_features=128, bias=True)\n",
       "      (disrupts_DdPW): Linear(in_features=128, out_features=128, bias=True)\n",
       "      (presents_DpsP): Linear(in_features=128, out_features=128, bias=True)\n",
       "      (affects_GafBP): Linear(in_features=128, out_features=128, bias=True)\n",
       "      (affects_GafC): Linear(in_features=128, out_features=128, bias=True)\n",
       "      (associated_with_GawBP): Linear(in_features=128, out_features=128, bias=True)\n",
       "      (associated_with_GawD): Linear(in_features=128, out_features=128, bias=True)\n",
       "      (associated_with_GawP): Linear(in_features=128, out_features=128, bias=True)\n",
       "      (capable_of_GcoBP): Linear(in_features=128, out_features=128, bias=True)\n",
       "      (causes_GcBP): Linear(in_features=128, out_features=128, bias=True)\n",
       "      (causes_GcD): Linear(in_features=128, out_features=128, bias=True)\n",
       "      (disrupts_GdD): Linear(in_features=128, out_features=128, bias=True)\n",
       "      (in_reaction_with_GrxC): Linear(in_features=128, out_features=128, bias=True)\n",
       "      (in_taxon_GitT): Linear(in_features=128, out_features=128, bias=True)\n",
       "      (marker_or_mechanism_GmBP): Linear(in_features=128, out_features=128, bias=True)\n",
       "      (marker_or_mechanism_GmD): Linear(in_features=128, out_features=128, bias=True)\n",
       "      (marker_or_mechanism_GmP): Linear(in_features=128, out_features=128, bias=True)\n",
       "      (marker_or_mechanism_GmPW): Linear(in_features=128, out_features=128, bias=True)\n",
       "      (part_of_GpoA): Linear(in_features=128, out_features=128, bias=True)\n",
       "      (part_of_GpoBP): Linear(in_features=128, out_features=128, bias=True)\n",
       "      (part_of_GpoPW): Linear(in_features=128, out_features=128, bias=True)\n",
       "      (regulates_Gr>G): Linear(in_features=128, out_features=128, bias=True)\n",
       "      (regulates_GrBP): Linear(in_features=128, out_features=128, bias=True)\n",
       "      (regulates_GrC): Linear(in_features=128, out_features=128, bias=True)\n",
       "      (treats_GtD): Linear(in_features=128, out_features=128, bias=True)\n",
       "      (treats_GtP): Linear(in_features=128, out_features=128, bias=True)\n",
       "      (causes_TcD): Linear(in_features=128, out_features=128, bias=True)\n",
       "      (affects_PWafD): Linear(in_features=128, out_features=128, bias=True)\n",
       "      (associated_with_PWawD): Linear(in_features=128, out_features=128, bias=True)\n",
       "      (associated_with_PWawP): Linear(in_features=128, out_features=128, bias=True)\n",
       "      (disrupts_PWd>PW): Linear(in_features=128, out_features=128, bias=True)\n",
       "      (in_taxon_PWitT): Linear(in_features=128, out_features=128, bias=True)\n",
       "      (part_of_PWpoBP): Linear(in_features=128, out_features=128, bias=True)\n",
       "      (regulates_PWrBP): Linear(in_features=128, out_features=128, bias=True)\n",
       "    )\n",
       "  )\n",
       "  (layer2): HeteroRGCNLayer(\n",
       "    (weight0): Linear(in_features=128, out_features=128, bias=True)\n",
       "    (weight): ModuleDict(\n",
       "      (associated_with_AawD): Linear(in_features=128, out_features=128, bias=True)\n",
       "      (associated_with_AawP): Linear(in_features=128, out_features=128, bias=True)\n",
       "      (site_of_AsoD): Linear(in_features=128, out_features=128, bias=True)\n",
       "      (site_of_AsoPW): Linear(in_features=128, out_features=128, bias=True)\n",
       "      (affects_BPafD): Linear(in_features=128, out_features=128, bias=True)\n",
       "      (associated_with_BPawD): Linear(in_features=128, out_features=128, bias=True)\n",
       "      (associated_with_BPawP): Linear(in_features=128, out_features=128, bias=True)\n",
       "      (causes_BPcD): Linear(in_features=128, out_features=128, bias=True)\n",
       "      (in_taxon_BPitT): Linear(in_features=128, out_features=128, bias=True)\n",
       "      (marker_or_mechanism_BPmD): Linear(in_features=128, out_features=128, bias=True)\n",
       "      (produces_BPpA): Linear(in_features=128, out_features=128, bias=True)\n",
       "      (treats_BPtD): Linear(in_features=128, out_features=128, bias=True)\n",
       "      (treats_BPtP): Linear(in_features=128, out_features=128, bias=True)\n",
       "      (affects_CafBP): Linear(in_features=128, out_features=128, bias=True)\n",
       "      (affects_CafG): Linear(in_features=128, out_features=128, bias=True)\n",
       "      (associated_with_CawD): Linear(in_features=128, out_features=128, bias=True)\n",
       "      (associated_with_CawG): Linear(in_features=128, out_features=128, bias=True)\n",
       "      (associated_with_CawPW): Linear(in_features=128, out_features=128, bias=True)\n",
       "      (indication): Linear(in_features=128, out_features=128, bias=True)\n",
       "      (marker_or_mechanism_CmD): Linear(in_features=128, out_features=128, bias=True)\n",
       "      (palliates_CplD): Linear(in_features=128, out_features=128, bias=True)\n",
       "      (palliates_CplP): Linear(in_features=128, out_features=128, bias=True)\n",
       "      (part_of_CpoA): Linear(in_features=128, out_features=128, bias=True)\n",
       "      (part_of_CpoBP): Linear(in_features=128, out_features=128, bias=True)\n",
       "      (part_of_CpoG): Linear(in_features=128, out_features=128, bias=True)\n",
       "      (part_of_CpoPW): Linear(in_features=128, out_features=128, bias=True)\n",
       "      (prevents_CpvD): Linear(in_features=128, out_features=128, bias=True)\n",
       "      (produces_CpG): Linear(in_features=128, out_features=128, bias=True)\n",
       "      (treats_CtD): Linear(in_features=128, out_features=128, bias=True)\n",
       "      (treats_CtP): Linear(in_features=128, out_features=128, bias=True)\n",
       "      (disrupts_DdPW): Linear(in_features=128, out_features=128, bias=True)\n",
       "      (presents_DpsP): Linear(in_features=128, out_features=128, bias=True)\n",
       "      (affects_GafBP): Linear(in_features=128, out_features=128, bias=True)\n",
       "      (affects_GafC): Linear(in_features=128, out_features=128, bias=True)\n",
       "      (associated_with_GawBP): Linear(in_features=128, out_features=128, bias=True)\n",
       "      (associated_with_GawD): Linear(in_features=128, out_features=128, bias=True)\n",
       "      (associated_with_GawP): Linear(in_features=128, out_features=128, bias=True)\n",
       "      (capable_of_GcoBP): Linear(in_features=128, out_features=128, bias=True)\n",
       "      (causes_GcBP): Linear(in_features=128, out_features=128, bias=True)\n",
       "      (causes_GcD): Linear(in_features=128, out_features=128, bias=True)\n",
       "      (disrupts_GdD): Linear(in_features=128, out_features=128, bias=True)\n",
       "      (in_reaction_with_GrxC): Linear(in_features=128, out_features=128, bias=True)\n",
       "      (in_taxon_GitT): Linear(in_features=128, out_features=128, bias=True)\n",
       "      (marker_or_mechanism_GmBP): Linear(in_features=128, out_features=128, bias=True)\n",
       "      (marker_or_mechanism_GmD): Linear(in_features=128, out_features=128, bias=True)\n",
       "      (marker_or_mechanism_GmP): Linear(in_features=128, out_features=128, bias=True)\n",
       "      (marker_or_mechanism_GmPW): Linear(in_features=128, out_features=128, bias=True)\n",
       "      (part_of_GpoA): Linear(in_features=128, out_features=128, bias=True)\n",
       "      (part_of_GpoBP): Linear(in_features=128, out_features=128, bias=True)\n",
       "      (part_of_GpoPW): Linear(in_features=128, out_features=128, bias=True)\n",
       "      (regulates_Gr>G): Linear(in_features=128, out_features=128, bias=True)\n",
       "      (regulates_GrBP): Linear(in_features=128, out_features=128, bias=True)\n",
       "      (regulates_GrC): Linear(in_features=128, out_features=128, bias=True)\n",
       "      (treats_GtD): Linear(in_features=128, out_features=128, bias=True)\n",
       "      (treats_GtP): Linear(in_features=128, out_features=128, bias=True)\n",
       "      (causes_TcD): Linear(in_features=128, out_features=128, bias=True)\n",
       "      (affects_PWafD): Linear(in_features=128, out_features=128, bias=True)\n",
       "      (associated_with_PWawD): Linear(in_features=128, out_features=128, bias=True)\n",
       "      (associated_with_PWawP): Linear(in_features=128, out_features=128, bias=True)\n",
       "      (disrupts_PWd>PW): Linear(in_features=128, out_features=128, bias=True)\n",
       "      (in_taxon_PWitT): Linear(in_features=128, out_features=128, bias=True)\n",
       "      (part_of_PWpoBP): Linear(in_features=128, out_features=128, bias=True)\n",
       "      (regulates_PWrBP): Linear(in_features=128, out_features=128, bias=True)\n",
       "    )\n",
       "  )\n",
       ")"
      ]
     },
     "execution_count": 5,
     "metadata": {},
     "output_type": "execute_result"
    }
   ],
   "source": [
    "model = torch.load(model_dir, map_location=device)\n",
    "model.to(device)\n",
    "model.eval()"
   ]
  },
  {
   "cell_type": "code",
   "execution_count": 6,
   "id": "5cd51733",
   "metadata": {},
   "outputs": [],
   "source": [
    "from types import SimpleNamespace\n",
    "args_dict = {\n",
    "\"lr_\" :0.1,\n",
    "\"num_epochs\": 10,\n",
    "\"penalty\" : 1.0,\n",
    "\"degree_thr\" :10,\n",
    "\"split\": \"test\",\n",
    "\"alpha\": 1.0,\n",
    "\"beta\": 1.0}\n",
    "args = SimpleNamespace(**args_dict)\n"
   ]
  },
  {
   "cell_type": "code",
   "execution_count": 7,
   "id": "a38228ec",
   "metadata": {},
   "outputs": [],
   "source": [
    "nodes_mapping = dataset_obj.nodes_mapping\n",
    "if args.split == \"test\":\n",
    "        drug_dis_train = [(item[\"seed_entities\"][0], ans) for item in dataset_obj.raw_test_data for ans in item[\"answer\"]]\n",
    "    "
   ]
  },
  {
   "cell_type": "code",
   "execution_count": 8,
   "id": "bbe28faa",
   "metadata": {},
   "outputs": [],
   "source": [
    "# Initialize explainer\n",
    "explainer = MaskExplainer(model, device, args, args.split)"
   ]
  },
  {
   "cell_type": "code",
   "execution_count": 9,
   "id": "9aeeec0b",
   "metadata": {},
   "outputs": [],
   "source": [
    "#Load true indications from DMDB\n",
    "\n",
    "dmdb_paths= pd.read_pickle(\"data/DMDB_ground-truth_paths.pkl\")\n",
    "                           \n",
    "dmdb_pairs = set()\n",
    "for drug_id,dis_id in zip(dmdb_paths[\"mrn_drug\"], dmdb_paths[\"mrn_dis\"]):\n",
    "    dmdb_pairs.add((drug_id,dis_id ))"
   ]
  },
  {
   "cell_type": "markdown",
   "id": "ea5fe5bd",
   "metadata": {},
   "source": [
    "Evaluation"
   ]
  },
  {
   "cell_type": "code",
   "execution_count": 12,
   "id": "0c516716",
   "metadata": {},
   "outputs": [],
   "source": [
    "hit_ranking = defaultdict(list)\n",
    "total_paths = defaultdict(list)"
   ]
  },
  {
   "cell_type": "code",
   "execution_count": 14,
   "id": "2e3be5fa",
   "metadata": {
    "scrolled": true
   },
   "outputs": [
    {
     "name": "stderr",
     "output_type": "stream",
     "text": [
      "  0%|                     | 0/72 [00:00<?, ?it/s]\n",
      "  0%|                     | 0/10 [00:00<?, ?it/s]\u001b[A\n",
      " 10%|█▎           | 1/10 [00:00<00:03,  2.39it/s]\u001b[A\n",
      " 20%|██▌          | 2/10 [00:00<00:03,  2.38it/s]\u001b[A\n",
      " 30%|███▉         | 3/10 [00:01<00:02,  2.39it/s]\u001b[A\n",
      " 40%|█████▏       | 4/10 [00:01<00:02,  2.39it/s]\u001b[A\n",
      " 50%|██████▌      | 5/10 [00:02<00:02,  2.39it/s]\u001b[A\n",
      " 60%|███████▊     | 6/10 [00:02<00:01,  2.40it/s]\u001b[A\n",
      " 70%|█████████    | 7/10 [00:02<00:01,  2.39it/s]\u001b[A\n",
      " 80%|██████████▍  | 8/10 [00:03<00:00,  2.40it/s]\u001b[A\n",
      " 90%|███████████▋ | 9/10 [00:03<00:00,  2.40it/s]\u001b[A\n",
      "100%|████████████| 10/10 [00:04<00:00,  2.39it/s]\u001b[A\n",
      "  1%|▏            | 1/72 [00:09<11:30,  9.72s/it]"
     ]
    },
    {
     "name": "stdout",
     "output_type": "stream",
     "text": [
      "34 ['CHEBI:31548', 'NCBIGene:5739', 'GO:0006954', 'DOID:4483']\n"
     ]
    },
    {
     "name": "stderr",
     "output_type": "stream",
     "text": [
      "\n",
      "  0%|                     | 0/10 [00:00<?, ?it/s]\u001b[A\n",
      " 10%|█▎           | 1/10 [00:00<00:03,  2.41it/s]\u001b[A\n",
      " 20%|██▌          | 2/10 [00:00<00:03,  2.39it/s]\u001b[A\n",
      " 30%|███▉         | 3/10 [00:01<00:02,  2.39it/s]\u001b[A\n",
      " 40%|█████▏       | 4/10 [00:01<00:02,  2.39it/s]\u001b[A\n",
      " 50%|██████▌      | 5/10 [00:02<00:02,  2.38it/s]\u001b[A\n",
      " 60%|███████▊     | 6/10 [00:02<00:01,  2.38it/s]\u001b[A\n",
      " 70%|█████████    | 7/10 [00:02<00:01,  2.37it/s]\u001b[A\n",
      " 80%|██████████▍  | 8/10 [00:03<00:00,  2.37it/s]\u001b[A\n",
      " 90%|███████████▋ | 9/10 [00:03<00:00,  2.38it/s]\u001b[A\n",
      "100%|████████████| 10/10 [00:04<00:00,  2.38it/s]\u001b[A\n",
      "  3%|▎            | 2/72 [00:18<10:54,  9.35s/it]"
     ]
    },
    {
     "name": "stdout",
     "output_type": "stream",
     "text": [
      "168 ['CHEBI:5439', 'NCBIGene:2554', 'GO:1904862', 'DOID:50433']\n"
     ]
    },
    {
     "name": "stderr",
     "output_type": "stream",
     "text": [
      "\n",
      "  0%|                     | 0/10 [00:00<?, ?it/s]\u001b[A\n",
      " 10%|█▎           | 1/10 [00:00<00:04,  2.09it/s]\u001b[A\n",
      " 20%|██▌          | 2/10 [00:00<00:03,  2.16it/s]\u001b[A\n",
      " 30%|███▉         | 3/10 [00:01<00:03,  2.20it/s]\u001b[A\n",
      " 40%|█████▏       | 4/10 [00:01<00:02,  2.21it/s]\u001b[A\n",
      " 50%|██████▌      | 5/10 [00:02<00:02,  2.22it/s]\u001b[A\n",
      " 60%|███████▊     | 6/10 [00:02<00:01,  2.24it/s]\u001b[A\n",
      " 70%|█████████    | 7/10 [00:03<00:01,  2.23it/s]\u001b[A\n",
      " 80%|██████████▍  | 8/10 [00:03<00:00,  2.24it/s]\u001b[A\n",
      " 90%|███████████▋ | 9/10 [00:04<00:00,  2.22it/s]\u001b[A\n",
      "100%|████████████| 10/10 [00:04<00:00,  2.21it/s]\u001b[A\n",
      "  4%|▌            | 3/72 [00:30<11:50, 10.29s/it]"
     ]
    },
    {
     "name": "stdout",
     "output_type": "stream",
     "text": [
      "98 ['CHEBI:34583', 'NCBIGene:367', 'GO:0048808', 'DOID:11383']\n",
      "114 ['CHEBI:34583', 'NCBIGene:367', 'GO:0008584', 'DOID:11383']\n"
     ]
    },
    {
     "name": "stderr",
     "output_type": "stream",
     "text": [
      "\n",
      "  0%|                     | 0/10 [00:00<?, ?it/s]\u001b[A\n",
      " 10%|█▎           | 1/10 [00:00<00:03,  2.47it/s]\u001b[A\n",
      " 20%|██▌          | 2/10 [00:00<00:03,  2.43it/s]\u001b[A\n",
      " 30%|███▉         | 3/10 [00:01<00:02,  2.43it/s]\u001b[A\n",
      " 40%|█████▏       | 4/10 [00:01<00:02,  2.44it/s]\u001b[A\n",
      " 50%|██████▌      | 5/10 [00:02<00:02,  2.45it/s]\u001b[A\n",
      " 60%|███████▊     | 6/10 [00:02<00:01,  2.45it/s]\u001b[A\n",
      " 70%|█████████    | 7/10 [00:02<00:01,  2.46it/s]\u001b[A\n",
      " 80%|██████████▍  | 8/10 [00:03<00:00,  2.45it/s]\u001b[A\n",
      " 90%|███████████▋ | 9/10 [00:03<00:00,  2.44it/s]\u001b[A\n",
      "100%|████████████| 10/10 [00:04<00:00,  2.44it/s]\u001b[A\n",
      "  6%|▋            | 4/72 [00:38<10:37,  9.37s/it]"
     ]
    },
    {
     "name": "stdout",
     "output_type": "stream",
     "text": [
      "45 ['CHEBI:7478', 'NCBIGene:3351', 'GO:0042310', 'DOID:6364']\n"
     ]
    },
    {
     "name": "stderr",
     "output_type": "stream",
     "text": [
      "\n",
      "  0%|                     | 0/10 [00:00<?, ?it/s]\u001b[A\n",
      " 10%|█▎           | 1/10 [00:00<00:04,  1.97it/s]\u001b[A\n",
      " 20%|██▌          | 2/10 [00:01<00:04,  1.96it/s]\u001b[A\n",
      " 30%|███▉         | 3/10 [00:01<00:03,  1.96it/s]\u001b[A\n",
      " 40%|█████▏       | 4/10 [00:02<00:03,  1.96it/s]\u001b[A\n",
      " 50%|██████▌      | 5/10 [00:02<00:02,  1.96it/s]\u001b[A\n",
      " 60%|███████▊     | 6/10 [00:03<00:02,  1.95it/s]\u001b[A\n",
      " 70%|█████████    | 7/10 [00:03<00:01,  1.95it/s]\u001b[A\n",
      " 80%|██████████▍  | 8/10 [00:04<00:01,  1.95it/s]\u001b[A\n",
      " 90%|███████████▋ | 9/10 [00:04<00:00,  1.95it/s]\u001b[A\n",
      "100%|████████████| 10/10 [00:05<00:00,  1.72it/s]\u001b[A\n",
      "  7%|▉            | 5/72 [00:52<12:19, 11.04s/it]"
     ]
    },
    {
     "name": "stdout",
     "output_type": "stream",
     "text": [
      "197 ['CHEBI:59809', 'NCBIGene:596', 'GO:0006915', 'DOID:449']\n"
     ]
    },
    {
     "name": "stderr",
     "output_type": "stream",
     "text": [
      "\n",
      "  0%|                     | 0/10 [00:00<?, ?it/s]\u001b[A\n",
      " 10%|█▎           | 1/10 [00:00<00:03,  2.38it/s]\u001b[A\n",
      " 20%|██▌          | 2/10 [00:00<00:03,  2.33it/s]\u001b[A\n",
      " 30%|███▉         | 3/10 [00:01<00:03,  2.32it/s]\u001b[A\n",
      " 40%|█████▏       | 4/10 [00:01<00:02,  2.34it/s]\u001b[A\n",
      " 50%|██████▌      | 5/10 [00:02<00:02,  2.34it/s]\u001b[A\n",
      " 60%|███████▊     | 6/10 [00:02<00:01,  2.33it/s]\u001b[A\n",
      " 70%|█████████    | 7/10 [00:03<00:01,  2.33it/s]\u001b[A\n",
      " 80%|██████████▍  | 8/10 [00:03<00:00,  2.33it/s]\u001b[A\n",
      " 90%|███████████▋ | 9/10 [00:03<00:00,  2.32it/s]\u001b[A\n",
      "100%|████████████| 10/10 [00:04<00:00,  2.33it/s]\u001b[A\n",
      "  8%|█            | 6/72 [01:00<11:06, 10.09s/it]"
     ]
    },
    {
     "name": "stdout",
     "output_type": "stream",
     "text": [
      "43 ['CHEBI:10124', 'NCBIGene:3351', 'GO:0042310', 'DOID:6364']\n"
     ]
    },
    {
     "name": "stderr",
     "output_type": "stream",
     "text": [
      "\n",
      "  0%|                     | 0/10 [00:00<?, ?it/s]\u001b[A\n",
      " 10%|█▎           | 1/10 [00:00<00:04,  1.86it/s]\u001b[A\n",
      " 20%|██▌          | 2/10 [00:01<00:04,  1.87it/s]\u001b[A\n",
      " 30%|███▉         | 3/10 [00:01<00:03,  1.88it/s]\u001b[A\n",
      " 40%|█████▏       | 4/10 [00:02<00:03,  1.87it/s]\u001b[A\n",
      " 50%|██████▌      | 5/10 [00:02<00:02,  1.88it/s]\u001b[A\n",
      " 60%|███████▊     | 6/10 [00:03<00:02,  1.88it/s]\u001b[A\n",
      " 70%|█████████    | 7/10 [00:03<00:01,  1.88it/s]\u001b[A\n",
      " 80%|██████████▍  | 8/10 [00:04<00:01,  1.89it/s]\u001b[A\n",
      " 90%|███████████▋ | 9/10 [00:04<00:00,  1.89it/s]\u001b[A\n",
      "100%|████████████| 10/10 [00:05<00:00,  1.88it/s]\u001b[A\n",
      " 10%|█▎           | 7/72 [01:14<12:12, 11.27s/it]"
     ]
    },
    {
     "name": "stdout",
     "output_type": "stream",
     "text": [
      "61 ['CHEBI:31690', 'NCBIGene:3815', 'GO:0008283', 'DOID:349']\n",
      "161 ['CHEBI:31690', 'NCBIGene:5156', 'GO:0008283', 'DOID:349']\n"
     ]
    },
    {
     "name": "stderr",
     "output_type": "stream",
     "text": [
      "\n",
      "  0%|                     | 0/10 [00:00<?, ?it/s]\u001b[A\n",
      " 10%|█▎           | 1/10 [00:00<00:04,  1.96it/s]\u001b[A\n",
      " 20%|██▌          | 2/10 [00:00<00:03,  2.07it/s]\u001b[A\n",
      " 30%|███▉         | 3/10 [00:01<00:03,  2.17it/s]\u001b[A\n",
      " 40%|█████▏       | 4/10 [00:01<00:02,  2.21it/s]\u001b[A\n",
      " 50%|██████▌      | 5/10 [00:02<00:02,  2.23it/s]\u001b[A\n",
      " 60%|███████▊     | 6/10 [00:02<00:01,  2.24it/s]\u001b[A\n",
      " 70%|█████████    | 7/10 [00:03<00:01,  2.25it/s]\u001b[A\n",
      " 80%|██████████▍  | 8/10 [00:03<00:00,  2.25it/s]\u001b[A\n",
      " 90%|███████████▋ | 9/10 [00:04<00:00,  2.26it/s]\u001b[A\n",
      "100%|████████████| 10/10 [00:04<00:00,  2.23it/s]\u001b[A\n",
      " 11%|█▍           | 8/72 [01:27<12:40, 11.88s/it]"
     ]
    },
    {
     "name": "stdout",
     "output_type": "stream",
     "text": [
      "10 ['CHEBI:31690', 'NCBIGene:25', 'DOID:8552']\n"
     ]
    },
    {
     "name": "stderr",
     "output_type": "stream",
     "text": [
      "\n",
      "  0%|                     | 0/10 [00:00<?, ?it/s]\u001b[A\n",
      " 10%|█▎           | 1/10 [00:00<00:04,  2.04it/s]\u001b[A\n",
      " 20%|██▌          | 2/10 [00:00<00:03,  2.11it/s]\u001b[A\n",
      " 30%|███▉         | 3/10 [00:01<00:03,  2.15it/s]\u001b[A\n",
      " 40%|█████▏       | 4/10 [00:01<00:02,  2.16it/s]\u001b[A\n",
      " 50%|██████▌      | 5/10 [00:02<00:02,  2.15it/s]\u001b[A\n",
      " 60%|███████▊     | 6/10 [00:02<00:01,  2.15it/s]\u001b[A\n",
      " 70%|█████████    | 7/10 [00:03<00:01,  2.15it/s]\u001b[A\n",
      " 80%|██████████▍  | 8/10 [00:03<00:00,  2.15it/s]\u001b[A\n",
      " 90%|███████████▋ | 9/10 [00:04<00:00,  2.16it/s]\u001b[A\n",
      "100%|████████████| 10/10 [00:04<00:00,  2.15it/s]\u001b[A\n",
      " 12%|█▋           | 9/72 [01:40<12:54, 12.29s/it]\n",
      "  0%|                     | 0/10 [00:00<?, ?it/s]\u001b[A\n",
      " 10%|█▎           | 1/10 [00:00<00:03,  2.42it/s]\u001b[A\n",
      " 20%|██▌          | 2/10 [00:00<00:03,  2.40it/s]\u001b[A\n",
      " 30%|███▉         | 3/10 [00:01<00:02,  2.40it/s]\u001b[A\n",
      " 40%|█████▏       | 4/10 [00:01<00:02,  2.38it/s]\u001b[A\n",
      " 50%|██████▌      | 5/10 [00:02<00:02,  2.36it/s]\u001b[A\n",
      " 60%|███████▊     | 6/10 [00:02<00:01,  2.35it/s]\u001b[A\n",
      " 70%|█████████    | 7/10 [00:02<00:01,  2.36it/s]\u001b[A\n",
      " 80%|██████████▍  | 8/10 [00:03<00:00,  2.35it/s]\u001b[A\n",
      " 90%|███████████▋ | 9/10 [00:03<00:00,  2.36it/s]\u001b[A\n",
      "100%|████████████| 10/10 [00:04<00:00,  2.37it/s]\u001b[A\n",
      " 14%|█▋          | 10/72 [01:48<11:20, 10.98s/it]"
     ]
    },
    {
     "name": "stdout",
     "output_type": "stream",
     "text": [
      "24 ['CHEBI:9727', 'NCBIGene:8913', 'GO:0007268', 'DOID:0070309']\n"
     ]
    },
    {
     "name": "stderr",
     "output_type": "stream",
     "text": [
      "\n",
      "  0%|                     | 0/10 [00:00<?, ?it/s]\u001b[A\n",
      " 10%|█▎           | 1/10 [00:00<00:04,  2.07it/s]\u001b[A\n",
      " 20%|██▌          | 2/10 [00:00<00:03,  2.05it/s]\u001b[A\n",
      " 30%|███▉         | 3/10 [00:01<00:03,  2.05it/s]\u001b[A\n",
      " 40%|█████▏       | 4/10 [00:01<00:02,  2.05it/s]\u001b[A\n",
      " 50%|██████▌      | 5/10 [00:02<00:02,  2.04it/s]\u001b[A\n",
      " 60%|███████▊     | 6/10 [00:02<00:01,  2.06it/s]\u001b[A\n",
      " 70%|█████████    | 7/10 [00:03<00:01,  2.09it/s]\u001b[A\n",
      " 80%|██████████▍  | 8/10 [00:03<00:00,  2.12it/s]\u001b[A\n",
      " 90%|███████████▋ | 9/10 [00:04<00:00,  2.15it/s]\u001b[A\n",
      "100%|████████████| 10/10 [00:04<00:00,  2.11it/s]\u001b[A\n",
      " 15%|█▊          | 11/72 [02:01<11:41, 11.49s/it]\n",
      "  0%|                     | 0/10 [00:00<?, ?it/s]\u001b[A\n",
      " 10%|█▎           | 1/10 [00:00<00:03,  2.30it/s]\u001b[A\n",
      " 20%|██▌          | 2/10 [00:00<00:03,  2.29it/s]\u001b[A\n",
      " 30%|███▉         | 3/10 [00:01<00:03,  2.28it/s]\u001b[A\n",
      " 40%|█████▏       | 4/10 [00:01<00:02,  2.27it/s]\u001b[A\n",
      " 50%|██████▌      | 5/10 [00:02<00:02,  2.26it/s]\u001b[A\n",
      " 60%|███████▊     | 6/10 [00:02<00:01,  2.26it/s]\u001b[A\n",
      " 70%|█████████    | 7/10 [00:03<00:01,  2.26it/s]\u001b[A\n",
      " 80%|██████████▍  | 8/10 [00:03<00:00,  2.26it/s]\u001b[A\n",
      " 90%|███████████▋ | 9/10 [00:03<00:00,  2.26it/s]\u001b[A\n",
      "100%|████████████| 10/10 [00:04<00:00,  2.26it/s]\u001b[A\n",
      " 17%|██          | 12/72 [02:10<10:57, 10.95s/it]\n",
      "  0%|                     | 0/10 [00:00<?, ?it/s]\u001b[A\n",
      " 10%|█▎           | 1/10 [00:00<00:03,  2.42it/s]\u001b[A\n",
      " 20%|██▌          | 2/10 [00:00<00:03,  2.39it/s]\u001b[A\n",
      " 30%|███▉         | 3/10 [00:01<00:02,  2.39it/s]\u001b[A\n",
      " 40%|█████▏       | 4/10 [00:01<00:02,  2.39it/s]\u001b[A\n",
      " 50%|██████▌      | 5/10 [00:02<00:02,  2.39it/s]\u001b[A\n",
      " 60%|███████▊     | 6/10 [00:02<00:01,  2.39it/s]\u001b[A\n",
      " 70%|█████████    | 7/10 [00:02<00:01,  2.39it/s]\u001b[A\n",
      " 80%|██████████▍  | 8/10 [00:03<00:00,  2.37it/s]\u001b[A\n",
      " 90%|███████████▋ | 9/10 [00:03<00:00,  2.38it/s]\u001b[A\n",
      "100%|████████████| 10/10 [00:04<00:00,  2.38it/s]\u001b[A\n",
      " 18%|██▏         | 13/72 [02:19<10:02, 10.21s/it]"
     ]
    },
    {
     "name": "stdout",
     "output_type": "stream",
     "text": [
      "0 ['CHEBI:32133', 'NCBIGene:1991', 'GO:0002438', 'MESH:D055371']\n",
      "1 ['CHEBI:32133', 'NCBIGene:1991', 'GO:0006954', 'MESH:D055371']\n"
     ]
    },
    {
     "name": "stderr",
     "output_type": "stream",
     "text": [
      "\n",
      "  0%|                     | 0/10 [00:00<?, ?it/s]\u001b[A\n",
      " 10%|█▎           | 1/10 [00:00<00:04,  1.93it/s]\u001b[A\n",
      " 20%|██▌          | 2/10 [00:00<00:03,  2.06it/s]\u001b[A\n",
      " 30%|███▉         | 3/10 [00:01<00:03,  2.11it/s]\u001b[A\n",
      " 40%|█████▏       | 4/10 [00:01<00:02,  2.15it/s]\u001b[A\n",
      " 50%|██████▌      | 5/10 [00:02<00:02,  2.18it/s]\u001b[A\n",
      " 60%|███████▊     | 6/10 [00:02<00:01,  2.19it/s]\u001b[A\n",
      " 70%|█████████    | 7/10 [00:03<00:01,  2.21it/s]\u001b[A\n",
      " 80%|██████████▍  | 8/10 [00:03<00:00,  2.24it/s]\u001b[A\n",
      " 90%|███████████▋ | 9/10 [00:04<00:00,  2.26it/s]\u001b[A\n",
      "100%|████████████| 10/10 [00:04<00:00,  2.21it/s]\u001b[A\n",
      " 19%|██▎         | 14/72 [02:33<10:58, 11.35s/it]"
     ]
    },
    {
     "name": "stdout",
     "output_type": "stream",
     "text": [
      "118 ['CHEBI:32181', 'NCBIGene:5914', 'GO:0008283', 'DOID:0060318']\n",
      "119 ['CHEBI:32181', 'NCBIGene:5915', 'GO:0008283', 'DOID:0060318']\n"
     ]
    },
    {
     "name": "stderr",
     "output_type": "stream",
     "text": [
      "\n",
      "  0%|                     | 0/10 [00:00<?, ?it/s]\u001b[A\n",
      " 10%|█▎           | 1/10 [00:00<00:04,  2.11it/s]\u001b[A\n",
      " 20%|██▌          | 2/10 [00:00<00:03,  2.14it/s]\u001b[A\n",
      " 30%|███▉         | 3/10 [00:01<00:03,  2.15it/s]\u001b[A\n",
      " 40%|█████▏       | 4/10 [00:01<00:02,  2.17it/s]\u001b[A\n",
      " 50%|██████▌      | 5/10 [00:02<00:02,  2.18it/s]\u001b[A\n",
      " 60%|███████▊     | 6/10 [00:02<00:01,  2.19it/s]\u001b[A\n",
      " 70%|█████████    | 7/10 [00:03<00:01,  2.21it/s]\u001b[A\n",
      " 80%|██████████▍  | 8/10 [00:03<00:00,  2.22it/s]\u001b[A\n",
      " 90%|███████████▋ | 9/10 [00:04<00:00,  2.22it/s]\u001b[A\n",
      "100%|████████████| 10/10 [00:04<00:00,  2.20it/s]\u001b[A\n",
      " 21%|██▌         | 15/72 [02:45<11:02, 11.62s/it]\n",
      "  0%|                     | 0/10 [00:00<?, ?it/s]\u001b[A\n",
      " 10%|█▎           | 1/10 [00:00<00:04,  2.03it/s]\u001b[A\n",
      " 20%|██▌          | 2/10 [00:00<00:03,  2.11it/s]\u001b[A\n",
      " 30%|███▉         | 3/10 [00:01<00:03,  2.14it/s]\u001b[A\n",
      " 40%|█████▏       | 4/10 [00:01<00:02,  2.15it/s]\u001b[A\n",
      " 50%|██████▌      | 5/10 [00:02<00:02,  2.17it/s]\u001b[A\n",
      " 60%|███████▊     | 6/10 [00:02<00:01,  2.18it/s]\u001b[A\n",
      " 70%|█████████    | 7/10 [00:03<00:01,  2.19it/s]\u001b[A\n",
      " 80%|██████████▍  | 8/10 [00:03<00:00,  2.19it/s]\u001b[A\n",
      " 90%|███████████▋ | 9/10 [00:04<00:00,  2.19it/s]\u001b[A\n",
      "100%|████████████| 10/10 [00:04<00:00,  2.17it/s]\u001b[A\n",
      " 22%|██▋         | 16/72 [02:56<10:38, 11.39s/it]\n",
      "  0%|                     | 0/10 [00:00<?, ?it/s]\u001b[A\n",
      " 10%|█▎           | 1/10 [00:00<00:04,  1.83it/s]\u001b[A\n",
      " 20%|██▌          | 2/10 [00:01<00:04,  1.88it/s]\u001b[A\n",
      " 30%|███▉         | 3/10 [00:01<00:03,  1.92it/s]\u001b[A\n",
      " 40%|█████▏       | 4/10 [00:02<00:03,  1.94it/s]\u001b[A\n",
      " 50%|██████▌      | 5/10 [00:02<00:02,  1.94it/s]\u001b[A\n",
      " 60%|███████▊     | 6/10 [00:03<00:02,  1.95it/s]\u001b[A\n",
      " 70%|█████████    | 7/10 [00:03<00:01,  1.95it/s]\u001b[A\n",
      " 80%|██████████▍  | 8/10 [00:04<00:01,  1.96it/s]\u001b[A\n",
      " 90%|███████████▋ | 9/10 [00:04<00:00,  1.97it/s]\u001b[A\n",
      "100%|████████████| 10/10 [00:05<00:00,  1.95it/s]\u001b[A\n",
      " 24%|██▊         | 17/72 [03:08<10:29, 11.44s/it]\n",
      "  0%|                     | 0/10 [00:00<?, ?it/s]\u001b[A\n",
      " 10%|█▎           | 1/10 [00:00<00:05,  1.77it/s]\u001b[A\n",
      " 20%|██▌          | 2/10 [00:01<00:04,  1.78it/s]\u001b[A\n",
      " 30%|███▉         | 3/10 [00:01<00:03,  1.79it/s]\u001b[A\n",
      " 40%|█████▏       | 4/10 [00:02<00:03,  1.78it/s]\u001b[A\n",
      " 50%|██████▌      | 5/10 [00:02<00:02,  1.78it/s]\u001b[A\n",
      " 60%|███████▊     | 6/10 [00:03<00:02,  1.77it/s]\u001b[A\n",
      " 70%|█████████    | 7/10 [00:03<00:01,  1.78it/s]\u001b[A\n",
      " 80%|██████████▍  | 8/10 [00:04<00:01,  1.78it/s]\u001b[A\n",
      " 90%|███████████▋ | 9/10 [00:05<00:00,  1.78it/s]\u001b[A\n",
      "100%|████████████| 10/10 [00:05<00:00,  1.78it/s]\u001b[A\n",
      " 25%|███         | 18/72 [03:22<11:08, 12.38s/it]"
     ]
    },
    {
     "name": "stdout",
     "output_type": "stream",
     "text": [
      "88 ['CHEBI:31690', 'NCBIGene:5156', 'GO:0008283', 'DOID:3507']\n"
     ]
    },
    {
     "name": "stderr",
     "output_type": "stream",
     "text": [
      "\n",
      "  0%|                     | 0/10 [00:00<?, ?it/s]\u001b[A\n",
      " 10%|█▎           | 1/10 [00:00<00:03,  2.30it/s]\u001b[A\n",
      " 20%|██▌          | 2/10 [00:00<00:03,  2.28it/s]\u001b[A\n",
      " 30%|███▉         | 3/10 [00:01<00:03,  2.30it/s]\u001b[A\n",
      " 40%|█████▏       | 4/10 [00:01<00:02,  2.32it/s]\u001b[A\n",
      " 50%|██████▌      | 5/10 [00:02<00:02,  2.32it/s]\u001b[A\n",
      " 60%|███████▊     | 6/10 [00:02<00:01,  2.30it/s]\u001b[A\n",
      " 70%|█████████    | 7/10 [00:03<00:01,  2.31it/s]\u001b[A\n",
      " 80%|██████████▍  | 8/10 [00:03<00:00,  2.30it/s]\u001b[A\n",
      " 90%|███████████▋ | 9/10 [00:03<00:00,  2.31it/s]\u001b[A\n",
      "100%|████████████| 10/10 [00:04<00:00,  2.31it/s]\u001b[A\n",
      " 26%|███▏        | 19/72 [03:30<09:51, 11.16s/it]"
     ]
    },
    {
     "name": "stdout",
     "output_type": "stream",
     "text": [
      "0 ['CHEBI:36560', 'GO:0006954', 'DOID:3127']\n"
     ]
    },
    {
     "name": "stderr",
     "output_type": "stream",
     "text": [
      "\n",
      "  0%|                     | 0/10 [00:00<?, ?it/s]\u001b[A\n",
      " 10%|█▎           | 1/10 [00:00<00:03,  2.48it/s]\u001b[A\n",
      " 20%|██▌          | 2/10 [00:00<00:03,  2.45it/s]\u001b[A\n",
      " 30%|███▉         | 3/10 [00:01<00:02,  2.45it/s]\u001b[A\n",
      " 40%|█████▏       | 4/10 [00:01<00:02,  2.45it/s]\u001b[A\n",
      " 50%|██████▌      | 5/10 [00:02<00:03,  1.53it/s]\u001b[A\n",
      " 60%|███████▊     | 6/10 [00:03<00:02,  1.75it/s]\u001b[A\n",
      " 70%|█████████    | 7/10 [00:03<00:01,  1.92it/s]\u001b[A\n",
      " 80%|██████████▍  | 8/10 [00:03<00:00,  2.06it/s]\u001b[A\n",
      " 90%|███████████▋ | 9/10 [00:04<00:00,  2.17it/s]\u001b[A\n",
      "100%|████████████| 10/10 [00:04<00:00,  2.09it/s]\u001b[A\n",
      " 28%|███▎        | 20/72 [03:40<09:13, 10.64s/it]"
     ]
    },
    {
     "name": "stdout",
     "output_type": "stream",
     "text": [
      "18 ['CHEBI:31583', 'NCBIGene:2554', 'GO:0022851', 'DOID:2030']\n"
     ]
    },
    {
     "name": "stderr",
     "output_type": "stream",
     "text": [
      "\n",
      "  0%|                     | 0/10 [00:00<?, ?it/s]\u001b[A\n",
      " 10%|█▎           | 1/10 [00:00<00:04,  2.01it/s]\u001b[A\n",
      " 20%|██▌          | 2/10 [00:00<00:03,  2.01it/s]\u001b[A\n",
      " 30%|███▉         | 3/10 [00:01<00:03,  2.02it/s]\u001b[A\n",
      " 40%|█████▏       | 4/10 [00:01<00:02,  2.02it/s]\u001b[A\n",
      " 50%|██████▌      | 5/10 [00:02<00:02,  2.03it/s]\u001b[A\n",
      " 60%|███████▊     | 6/10 [00:02<00:01,  2.04it/s]\u001b[A\n",
      " 70%|█████████    | 7/10 [00:03<00:01,  2.05it/s]\u001b[A\n",
      " 80%|██████████▍  | 8/10 [00:03<00:00,  2.08it/s]\u001b[A\n",
      " 90%|███████████▋ | 9/10 [00:04<00:00,  2.10it/s]\u001b[A\n",
      "100%|████████████| 10/10 [00:04<00:00,  2.06it/s]\u001b[A\n",
      " 29%|███▌        | 21/72 [03:51<09:05, 10.70s/it]"
     ]
    },
    {
     "name": "stdout",
     "output_type": "stream",
     "text": [
      "155 ['CHEBI:78432', 'NCBIGene:238', 'GO:0008283', 'DOID:3908']\n"
     ]
    },
    {
     "name": "stderr",
     "output_type": "stream",
     "text": [
      "\n",
      "  0%|                     | 0/10 [00:00<?, ?it/s]\u001b[A\n",
      " 10%|█▎           | 1/10 [00:00<00:04,  2.13it/s]\u001b[A\n",
      " 20%|██▌          | 2/10 [00:00<00:03,  2.23it/s]\u001b[A\n",
      " 30%|███▉         | 3/10 [00:01<00:03,  2.26it/s]\u001b[A\n",
      " 40%|█████▏       | 4/10 [00:01<00:02,  2.29it/s]\u001b[A\n",
      " 50%|██████▌      | 5/10 [00:02<00:02,  2.31it/s]\u001b[A\n",
      " 60%|███████▊     | 6/10 [00:02<00:01,  2.33it/s]\u001b[A\n",
      " 70%|█████████    | 7/10 [00:03<00:01,  2.32it/s]\u001b[A\n",
      " 80%|██████████▍  | 8/10 [00:03<00:00,  2.32it/s]\u001b[A\n",
      " 90%|███████████▋ | 9/10 [00:03<00:00,  2.34it/s]\u001b[A\n",
      "100%|████████████| 10/10 [00:04<00:00,  2.31it/s]\u001b[A\n",
      " 31%|███▋        | 22/72 [04:02<09:08, 10.98s/it]\n",
      "  0%|                     | 0/10 [00:00<?, ?it/s]\u001b[A\n",
      " 10%|█▎           | 1/10 [00:00<00:04,  2.09it/s]\u001b[A\n",
      " 20%|██▌          | 2/10 [00:00<00:03,  2.10it/s]\u001b[A\n",
      " 30%|███▉         | 3/10 [00:01<00:03,  2.11it/s]\u001b[A\n",
      " 40%|█████▏       | 4/10 [00:01<00:02,  2.12it/s]\u001b[A\n",
      " 50%|██████▌      | 5/10 [00:02<00:02,  2.11it/s]\u001b[A\n",
      " 60%|███████▊     | 6/10 [00:02<00:01,  2.10it/s]\u001b[A\n",
      " 70%|█████████    | 7/10 [00:03<00:01,  2.10it/s]\u001b[A\n",
      " 80%|██████████▍  | 8/10 [00:03<00:00,  2.08it/s]\u001b[A\n",
      " 90%|███████████▋ | 9/10 [00:04<00:00,  2.08it/s]\u001b[A\n",
      "100%|████████████| 10/10 [00:04<00:00,  2.09it/s]\u001b[A\n",
      " 32%|███▊        | 23/72 [04:13<08:47, 10.76s/it]"
     ]
    },
    {
     "name": "stdout",
     "output_type": "stream",
     "text": [
      "141 ['CHEBI:47780', 'NCBIGene:6532', 'GO:0051610', 'DOID:10933']\n"
     ]
    },
    {
     "name": "stderr",
     "output_type": "stream",
     "text": [
      "\n",
      "  0%|                     | 0/10 [00:00<?, ?it/s]\u001b[A\n",
      " 10%|█▎           | 1/10 [00:00<00:04,  2.17it/s]\u001b[A\n",
      " 20%|██▌          | 2/10 [00:00<00:03,  2.17it/s]\u001b[A\n",
      " 30%|███▉         | 3/10 [00:01<00:03,  2.16it/s]\u001b[A\n",
      " 40%|█████▏       | 4/10 [00:01<00:02,  2.15it/s]\u001b[A\n",
      " 50%|██████▌      | 5/10 [00:02<00:02,  2.16it/s]\u001b[A\n",
      " 60%|███████▊     | 6/10 [00:02<00:01,  2.17it/s]\u001b[A\n",
      " 70%|█████████    | 7/10 [00:03<00:01,  2.13it/s]\u001b[A\n",
      " 80%|██████████▍  | 8/10 [00:03<00:00,  2.13it/s]\u001b[A\n",
      " 90%|███████████▋ | 9/10 [00:04<00:00,  1.47it/s]\u001b[A\n",
      "100%|████████████| 10/10 [00:05<00:00,  1.87it/s]\u001b[A\n",
      " 33%|████        | 24/72 [04:23<08:34, 10.71s/it]"
     ]
    },
    {
     "name": "stdout",
     "output_type": "stream",
     "text": [
      "8 ['CHEBI:64318', 'NCBIGene:150', 'GO:0042310', 'DOID:6364']\n",
      "14 ['CHEBI:64318', 'NCBIGene:146', 'GO:0042310', 'DOID:6364']\n",
      "15 ['CHEBI:64318', 'NCBIGene:148', 'GO:0042310', 'DOID:6364']\n",
      "16 ['CHEBI:64318', 'NCBIGene:152', 'GO:0042310', 'DOID:6364']\n",
      "18 ['CHEBI:64318', 'NCBIGene:3352', 'GO:0042310', 'DOID:6364']\n",
      "20 ['CHEBI:64318', 'NCBIGene:147', 'GO:0042310', 'DOID:6364']\n",
      "21 ['CHEBI:64318', 'NCBIGene:151', 'GO:0042310', 'DOID:6364']\n"
     ]
    },
    {
     "name": "stderr",
     "output_type": "stream",
     "text": [
      "\n",
      "  0%|                     | 0/10 [00:00<?, ?it/s]\u001b[A\n",
      " 10%|█▎           | 1/10 [00:00<00:03,  2.34it/s]\u001b[A\n",
      " 20%|██▌          | 2/10 [00:00<00:03,  2.33it/s]\u001b[A\n",
      " 30%|███▉         | 3/10 [00:01<00:02,  2.33it/s]\u001b[A\n",
      " 40%|█████▏       | 4/10 [00:01<00:02,  2.31it/s]\u001b[A\n",
      " 50%|██████▌      | 5/10 [00:02<00:02,  2.30it/s]\u001b[A\n",
      " 60%|███████▊     | 6/10 [00:02<00:01,  2.30it/s]\u001b[A\n",
      " 70%|█████████    | 7/10 [00:03<00:01,  2.30it/s]\u001b[A\n",
      " 80%|██████████▍  | 8/10 [00:03<00:00,  2.28it/s]\u001b[A\n",
      " 90%|███████████▋ | 9/10 [00:03<00:00,  2.29it/s]\u001b[A\n",
      "100%|████████████| 10/10 [00:04<00:00,  2.30it/s]\u001b[A\n",
      " 35%|████▏       | 25/72 [04:31<07:45,  9.90s/it]"
     ]
    },
    {
     "name": "stdout",
     "output_type": "stream",
     "text": [
      "1 ['CHEBI:135576', 'NCBIGene:148', 'GO:0042310', 'DOID:10825']\n"
     ]
    },
    {
     "name": "stderr",
     "output_type": "stream",
     "text": [
      "\n",
      "  0%|                     | 0/10 [00:00<?, ?it/s]\u001b[A\n",
      " 10%|█▎           | 1/10 [00:00<00:03,  2.40it/s]\u001b[A\n",
      " 20%|██▌          | 2/10 [00:00<00:03,  2.38it/s]\u001b[A\n",
      " 30%|███▉         | 3/10 [00:01<00:02,  2.38it/s]\u001b[A\n",
      " 40%|█████▏       | 4/10 [00:01<00:02,  2.40it/s]\u001b[A\n",
      " 50%|██████▌      | 5/10 [00:02<00:02,  2.41it/s]\u001b[A\n",
      " 60%|███████▊     | 6/10 [00:02<00:01,  2.43it/s]\u001b[A\n",
      " 70%|█████████    | 7/10 [00:02<00:01,  2.43it/s]\u001b[A\n",
      " 80%|██████████▍  | 8/10 [00:03<00:00,  2.44it/s]\u001b[A\n",
      " 90%|███████████▋ | 9/10 [00:03<00:00,  2.45it/s]\u001b[A\n",
      "100%|████████████| 10/10 [00:04<00:00,  2.43it/s]\u001b[A\n",
      " 36%|████▎       | 26/72 [04:40<07:15,  9.46s/it]"
     ]
    },
    {
     "name": "stdout",
     "output_type": "stream",
     "text": [
      "6 ['CHEBI:135775', 'NCBIGene:1813', 'REACT:R-HSA-390651', 'DOID:5419']\n"
     ]
    },
    {
     "name": "stderr",
     "output_type": "stream",
     "text": [
      "\n",
      "  0%|                     | 0/10 [00:00<?, ?it/s]\u001b[A\n",
      " 10%|█▎           | 1/10 [00:00<00:04,  2.14it/s]\u001b[A\n",
      " 20%|██▌          | 2/10 [00:00<00:03,  2.16it/s]\u001b[A\n",
      " 30%|███▉         | 3/10 [00:01<00:03,  2.15it/s]\u001b[A\n",
      " 40%|█████▏       | 4/10 [00:01<00:02,  2.15it/s]\u001b[A\n",
      " 50%|██████▌      | 5/10 [00:02<00:02,  2.15it/s]\u001b[A\n",
      " 60%|███████▊     | 6/10 [00:02<00:01,  2.16it/s]\u001b[A\n",
      " 70%|█████████    | 7/10 [00:03<00:01,  2.16it/s]\u001b[A\n",
      " 80%|██████████▍  | 8/10 [00:03<00:00,  2.16it/s]\u001b[A\n",
      " 90%|███████████▋ | 9/10 [00:04<00:00,  2.16it/s]\u001b[A\n",
      "100%|████████████| 10/10 [00:04<00:00,  2.16it/s]\u001b[A\n",
      " 38%|████▌       | 27/72 [04:52<07:42, 10.29s/it]\n",
      "  0%|                     | 0/10 [00:00<?, ?it/s]\u001b[A\n",
      " 10%|█▎           | 1/10 [00:00<00:03,  2.56it/s]\u001b[A\n",
      " 20%|██▌          | 2/10 [00:00<00:03,  2.54it/s]\u001b[A\n",
      " 30%|███▉         | 3/10 [00:01<00:02,  2.55it/s]\u001b[A\n",
      " 40%|█████▏       | 4/10 [00:01<00:02,  2.54it/s]\u001b[A\n",
      " 50%|██████▌      | 5/10 [00:01<00:01,  2.53it/s]\u001b[A\n",
      " 60%|███████▊     | 6/10 [00:02<00:01,  2.53it/s]\u001b[A\n",
      " 70%|█████████    | 7/10 [00:02<00:01,  2.53it/s]\u001b[A\n",
      " 80%|██████████▍  | 8/10 [00:03<00:00,  2.52it/s]\u001b[A\n",
      " 90%|███████████▋ | 9/10 [00:03<00:00,  2.53it/s]\u001b[A\n",
      "100%|████████████| 10/10 [00:03<00:00,  2.53it/s]\u001b[A\n",
      " 39%|████▋       | 28/72 [04:59<06:55,  9.44s/it]"
     ]
    },
    {
     "name": "stdout",
     "output_type": "stream",
     "text": [
      "1 ['CHEBI:51209', 'NCBIGene:148', 'GO:0042310', 'MESH:D020773']\n"
     ]
    },
    {
     "name": "stderr",
     "output_type": "stream",
     "text": [
      "\n",
      "  0%|                     | 0/10 [00:00<?, ?it/s]\u001b[A\n",
      " 10%|█▎           | 1/10 [00:00<00:04,  2.24it/s]\u001b[A\n",
      " 20%|██▌          | 2/10 [00:00<00:03,  2.26it/s]\u001b[A\n",
      " 30%|███▉         | 3/10 [00:01<00:03,  2.27it/s]\u001b[A\n",
      " 40%|█████▏       | 4/10 [00:01<00:02,  2.28it/s]\u001b[A\n",
      " 50%|██████▌      | 5/10 [00:02<00:03,  1.47it/s]\u001b[A\n",
      " 60%|███████▊     | 6/10 [00:03<00:02,  1.68it/s]\u001b[A\n",
      " 70%|█████████    | 7/10 [00:03<00:01,  1.84it/s]\u001b[A\n",
      " 80%|██████████▍  | 8/10 [00:04<00:01,  1.96it/s]\u001b[A\n",
      " 90%|███████████▋ | 9/10 [00:04<00:00,  2.04it/s]\u001b[A\n",
      "100%|████████████| 10/10 [00:05<00:00,  1.98it/s]\u001b[A\n",
      " 40%|████▊       | 29/72 [05:12<07:29, 10.46s/it]\n",
      "  0%|                     | 0/10 [00:00<?, ?it/s]\u001b[A\n",
      " 10%|█▎           | 1/10 [00:00<00:03,  2.37it/s]\u001b[A\n",
      " 20%|██▌          | 2/10 [00:00<00:03,  2.36it/s]\u001b[A\n",
      " 30%|███▉         | 3/10 [00:01<00:02,  2.35it/s]\u001b[A\n",
      " 40%|█████▏       | 4/10 [00:01<00:02,  2.34it/s]\u001b[A\n",
      " 50%|██████▌      | 5/10 [00:02<00:02,  2.34it/s]\u001b[A\n",
      " 60%|███████▊     | 6/10 [00:02<00:01,  2.34it/s]\u001b[A\n",
      " 70%|█████████    | 7/10 [00:02<00:01,  2.34it/s]\u001b[A\n",
      " 80%|██████████▍  | 8/10 [00:03<00:00,  2.35it/s]\u001b[A\n",
      " 90%|███████████▋ | 9/10 [00:03<00:00,  2.35it/s]\u001b[A\n",
      "100%|████████████| 10/10 [00:04<00:00,  2.35it/s]\u001b[A\n",
      " 42%|█████       | 30/72 [05:21<06:55,  9.89s/it]"
     ]
    },
    {
     "name": "stdout",
     "output_type": "stream",
     "text": [
      "3 ['CHEBI:71248', 'NCBIGene:1813', 'REACT:R-HSA-390651', 'DOID:5419']\n"
     ]
    },
    {
     "name": "stderr",
     "output_type": "stream",
     "text": [
      "\n",
      "  0%|                     | 0/10 [00:00<?, ?it/s]\u001b[A\n",
      " 10%|█▎           | 1/10 [00:00<00:04,  2.23it/s]\u001b[A\n",
      " 20%|██▌          | 2/10 [00:00<00:03,  2.21it/s]\u001b[A\n",
      " 30%|███▉         | 3/10 [00:01<00:03,  2.21it/s]\u001b[A\n",
      " 40%|█████▏       | 4/10 [00:01<00:02,  2.22it/s]\u001b[A\n",
      " 50%|██████▌      | 5/10 [00:02<00:02,  2.23it/s]\u001b[A\n",
      " 60%|███████▊     | 6/10 [00:02<00:01,  2.24it/s]\u001b[A\n",
      " 70%|█████████    | 7/10 [00:03<00:01,  2.24it/s]\u001b[A\n",
      " 80%|██████████▍  | 8/10 [00:03<00:00,  2.24it/s]\u001b[A\n",
      " 90%|███████████▋ | 9/10 [00:04<00:00,  2.24it/s]\u001b[A\n",
      "100%|████████████| 10/10 [00:04<00:00,  2.23it/s]\u001b[A\n",
      " 43%|█████▏      | 31/72 [05:38<08:12, 12.02s/it]"
     ]
    },
    {
     "name": "stdout",
     "output_type": "stream",
     "text": [
      "34 ['CHEBI:15367', 'NCBIGene:5914', 'GO:0008283', 'DOID:0060318']\n",
      "65 ['CHEBI:15367', 'NCBIGene:5916', 'GO:0008283', 'DOID:0060318']\n",
      "76 ['CHEBI:15367', 'NCBIGene:5915', 'GO:0008283', 'DOID:0060318']\n"
     ]
    },
    {
     "name": "stderr",
     "output_type": "stream",
     "text": [
      "\n",
      "  0%|                     | 0/10 [00:00<?, ?it/s]\u001b[A\n",
      " 10%|█▎           | 1/10 [00:00<00:04,  2.22it/s]\u001b[A\n",
      " 20%|██▌          | 2/10 [00:00<00:03,  2.22it/s]\u001b[A\n",
      " 30%|███▉         | 3/10 [00:01<00:03,  2.23it/s]\u001b[A\n",
      " 40%|█████▏       | 4/10 [00:01<00:02,  2.22it/s]\u001b[A\n",
      " 50%|██████▌      | 5/10 [00:02<00:02,  2.23it/s]\u001b[A\n",
      " 60%|███████▊     | 6/10 [00:02<00:01,  2.23it/s]\u001b[A\n",
      " 70%|█████████    | 7/10 [00:03<00:01,  2.24it/s]\u001b[A\n",
      " 80%|██████████▍  | 8/10 [00:03<00:00,  2.24it/s]\u001b[A\n",
      " 90%|███████████▋ | 9/10 [00:04<00:00,  2.23it/s]\u001b[A\n",
      "100%|████████████| 10/10 [00:04<00:00,  2.23it/s]\u001b[A\n",
      " 44%|█████▎      | 32/72 [05:48<07:42, 11.56s/it]\n",
      "  0%|                     | 0/10 [00:00<?, ?it/s]\u001b[A\n",
      " 10%|█▎           | 1/10 [00:01<00:09,  1.10s/it]\u001b[A\n",
      " 20%|██▌          | 2/10 [00:01<00:05,  1.40it/s]\u001b[A\n",
      " 30%|███▉         | 3/10 [00:01<00:04,  1.70it/s]\u001b[A\n",
      " 40%|█████▏       | 4/10 [00:02<00:03,  1.89it/s]\u001b[A\n",
      " 50%|██████▌      | 5/10 [00:02<00:02,  2.01it/s]\u001b[A\n",
      " 60%|███████▊     | 6/10 [00:03<00:01,  2.10it/s]\u001b[A\n",
      " 70%|█████████    | 7/10 [00:03<00:01,  2.16it/s]\u001b[A\n",
      " 80%|██████████▍  | 8/10 [00:04<00:00,  2.19it/s]\u001b[A\n",
      " 90%|███████████▋ | 9/10 [00:04<00:00,  2.22it/s]\u001b[A\n",
      "100%|████████████| 10/10 [00:05<00:00,  1.98it/s]\u001b[A\n",
      " 46%|█████▌      | 33/72 [05:57<07:03, 10.86s/it]"
     ]
    },
    {
     "name": "stdout",
     "output_type": "stream",
     "text": [
      "5 ['CHEBI:66901', 'NCBIGene:1080', 'DOID:1485']\n"
     ]
    },
    {
     "name": "stderr",
     "output_type": "stream",
     "text": [
      "\n",
      "  0%|                     | 0/10 [00:00<?, ?it/s]\u001b[A\n",
      " 10%|█▎           | 1/10 [00:00<00:05,  1.61it/s]\u001b[A\n",
      " 20%|██▌          | 2/10 [00:01<00:04,  1.65it/s]\u001b[A\n",
      " 30%|███▉         | 3/10 [00:01<00:04,  1.67it/s]\u001b[A\n",
      " 40%|█████▏       | 4/10 [00:02<00:03,  1.67it/s]\u001b[A\n",
      " 50%|██████▌      | 5/10 [00:02<00:02,  1.68it/s]\u001b[A\n",
      " 60%|███████▊     | 6/10 [00:03<00:02,  1.69it/s]\u001b[A\n",
      " 70%|█████████    | 7/10 [00:04<00:01,  1.68it/s]\u001b[A\n",
      " 80%|██████████▍  | 8/10 [00:04<00:01,  1.68it/s]\u001b[A\n",
      " 90%|███████████▋ | 9/10 [00:05<00:00,  1.67it/s]\u001b[A\n",
      "100%|████████████| 10/10 [00:05<00:00,  1.67it/s]\u001b[A\n",
      " 47%|█████▋      | 34/72 [06:12<07:33, 11.92s/it]"
     ]
    },
    {
     "name": "stdout",
     "output_type": "stream",
     "text": [
      "137 ['CHEBI:63452', 'NCBIGene:3815', 'GO:0008283', 'DOID:9119']\n",
      "162 ['CHEBI:63452', 'NCBIGene:5159', 'GO:0008283', 'DOID:9119']\n",
      "171 ['CHEBI:63452', 'NCBIGene:5578', 'GO:0001525', 'DOID:9119']\n",
      "173 ['CHEBI:63452', 'NCBIGene:3791', 'GO:0001525', 'DOID:9119']\n"
     ]
    },
    {
     "name": "stderr",
     "output_type": "stream",
     "text": [
      "\n",
      "  0%|                     | 0/10 [00:00<?, ?it/s]\u001b[A\n",
      " 10%|█▎           | 1/10 [00:00<00:04,  2.14it/s]\u001b[A\n",
      " 20%|██▌          | 2/10 [00:00<00:03,  2.15it/s]\u001b[A\n",
      " 30%|███▉         | 3/10 [00:01<00:03,  2.17it/s]\u001b[A\n",
      " 40%|█████▏       | 4/10 [00:01<00:02,  2.17it/s]\u001b[A\n",
      " 50%|██████▌      | 5/10 [00:02<00:02,  2.17it/s]\u001b[A\n",
      " 60%|███████▊     | 6/10 [00:02<00:01,  2.16it/s]\u001b[A\n",
      " 70%|█████████    | 7/10 [00:03<00:01,  2.17it/s]\u001b[A\n",
      " 80%|██████████▍  | 8/10 [00:03<00:00,  2.15it/s]\u001b[A\n",
      " 90%|███████████▋ | 9/10 [00:04<00:00,  2.15it/s]\u001b[A\n",
      "100%|████████████| 10/10 [00:04<00:00,  2.16it/s]\u001b[A\n",
      " 49%|█████▊      | 35/72 [06:22<06:58, 11.31s/it]"
     ]
    },
    {
     "name": "stdout",
     "output_type": "stream",
     "text": [
      "20 ['CHEBI:75725', 'NCBIGene:4988', 'GO:0019233', 'DOID:60145']\n"
     ]
    },
    {
     "name": "stderr",
     "output_type": "stream",
     "text": [
      " 50%|██████      | 36/72 [06:26<05:29,  9.17s/it]\n",
      "  0%|                     | 0/10 [00:00<?, ?it/s]\u001b[A\n",
      " 10%|█▎           | 1/10 [00:00<00:03,  2.39it/s]\u001b[A\n",
      " 20%|██▌          | 2/10 [00:00<00:03,  2.36it/s]\u001b[A\n",
      " 30%|███▉         | 3/10 [00:01<00:02,  2.36it/s]\u001b[A\n",
      " 40%|█████▏       | 4/10 [00:01<00:02,  2.36it/s]\u001b[A\n",
      " 50%|██████▌      | 5/10 [00:02<00:02,  2.36it/s]\u001b[A\n",
      " 60%|███████▊     | 6/10 [00:02<00:01,  2.36it/s]\u001b[A\n",
      " 70%|█████████    | 7/10 [00:02<00:01,  2.36it/s]\u001b[A\n",
      " 80%|██████████▍  | 8/10 [00:03<00:00,  2.34it/s]\u001b[A\n",
      " 90%|███████████▋ | 9/10 [00:03<00:00,  2.34it/s]\u001b[A\n",
      "100%|████████████| 10/10 [00:04<00:00,  2.35it/s]\u001b[A\n",
      " 51%|██████▏     | 37/72 [06:35<05:20,  9.16s/it]"
     ]
    },
    {
     "name": "stdout",
     "output_type": "stream",
     "text": [
      "30 ['CHEBI:5384', 'NCBIGene:6833', 'GO:0030073', 'DOID:9352']\n",
      "33 ['CHEBI:5384', 'NCBIGene:3767', 'GO:0030073', 'DOID:9352']\n"
     ]
    },
    {
     "name": "stderr",
     "output_type": "stream",
     "text": [
      "\n",
      "  0%|                     | 0/10 [00:00<?, ?it/s]\u001b[A\n",
      " 10%|█▎           | 1/10 [00:00<00:04,  2.22it/s]\u001b[A\n",
      " 20%|██▌          | 2/10 [00:00<00:03,  2.18it/s]\u001b[A\n",
      " 30%|███▉         | 3/10 [00:01<00:03,  2.18it/s]\u001b[A\n",
      " 40%|█████▏       | 4/10 [00:01<00:02,  2.20it/s]\u001b[A\n",
      " 50%|██████▌      | 5/10 [00:02<00:02,  2.20it/s]\u001b[A\n",
      " 60%|███████▊     | 6/10 [00:02<00:01,  2.20it/s]\u001b[A\n",
      " 70%|█████████    | 7/10 [00:03<00:01,  2.21it/s]\u001b[A\n",
      " 80%|██████████▍  | 8/10 [00:03<00:00,  2.21it/s]\u001b[A\n",
      " 90%|███████████▋ | 9/10 [00:04<00:00,  2.21it/s]\u001b[A\n",
      "100%|████████████| 10/10 [00:04<00:00,  2.20it/s]\u001b[A\n",
      " 53%|██████▎     | 38/72 [06:43<05:02,  8.91s/it]"
     ]
    },
    {
     "name": "stdout",
     "output_type": "stream",
     "text": [
      "2 ['CHEBI:31548', 'NCBIGene:5739', 'GO:0006954', 'DOID:10459']\n"
     ]
    },
    {
     "name": "stderr",
     "output_type": "stream",
     "text": [
      "\n",
      "  0%|                     | 0/10 [00:00<?, ?it/s]\u001b[A\n",
      " 10%|█▎           | 1/10 [00:00<00:03,  2.36it/s]\u001b[A\n",
      " 20%|██▌          | 2/10 [00:00<00:03,  2.33it/s]\u001b[A\n",
      " 30%|███▉         | 3/10 [00:01<00:03,  2.33it/s]\u001b[A\n",
      " 40%|█████▏       | 4/10 [00:01<00:02,  2.31it/s]\u001b[A\n",
      " 50%|██████▌      | 5/10 [00:02<00:02,  2.31it/s]\u001b[A\n",
      " 60%|███████▊     | 6/10 [00:02<00:01,  2.31it/s]\u001b[A\n",
      " 70%|█████████    | 7/10 [00:03<00:01,  2.31it/s]\u001b[A\n",
      " 80%|██████████▍  | 8/10 [00:03<00:00,  2.31it/s]\u001b[A\n",
      " 90%|███████████▋ | 9/10 [00:04<00:00,  1.56it/s]\u001b[A\n",
      "100%|████████████| 10/10 [00:04<00:00,  2.00it/s]\u001b[A\n",
      " 54%|██████▌     | 39/72 [06:57<05:36, 10.20s/it]\n",
      "  0%|                     | 0/10 [00:00<?, ?it/s]\u001b[A\n",
      " 10%|█▎           | 1/10 [00:00<00:04,  2.05it/s]\u001b[A\n",
      " 20%|██▌          | 2/10 [00:00<00:03,  2.09it/s]\u001b[A\n",
      " 30%|███▉         | 3/10 [00:01<00:03,  2.09it/s]\u001b[A\n",
      " 40%|█████▏       | 4/10 [00:01<00:02,  2.10it/s]\u001b[A\n",
      " 50%|██████▌      | 5/10 [00:02<00:02,  2.11it/s]\u001b[A\n",
      " 60%|███████▊     | 6/10 [00:02<00:01,  2.11it/s]\u001b[A\n",
      " 70%|█████████    | 7/10 [00:03<00:01,  2.12it/s]\u001b[A\n",
      " 80%|██████████▍  | 8/10 [00:03<00:00,  2.11it/s]\u001b[A\n",
      " 90%|███████████▋ | 9/10 [00:04<00:00,  2.12it/s]\u001b[A\n",
      "100%|████████████| 10/10 [00:04<00:00,  2.11it/s]\u001b[A\n",
      " 56%|██████▋     | 40/72 [07:07<05:28, 10.27s/it]\n",
      "  0%|                     | 0/10 [00:00<?, ?it/s]\u001b[A\n",
      " 10%|█▎           | 1/10 [00:00<00:04,  2.05it/s]\u001b[A\n",
      " 20%|██▌          | 2/10 [00:00<00:03,  2.05it/s]\u001b[A\n",
      " 30%|███▉         | 3/10 [00:01<00:03,  2.06it/s]\u001b[A\n",
      " 40%|█████▏       | 4/10 [00:01<00:02,  2.05it/s]\u001b[A\n",
      " 50%|██████▌      | 5/10 [00:02<00:02,  2.04it/s]\u001b[A\n",
      " 60%|███████▊     | 6/10 [00:02<00:01,  2.04it/s]\u001b[A\n",
      " 70%|█████████    | 7/10 [00:03<00:01,  2.05it/s]\u001b[A\n",
      " 80%|██████████▍  | 8/10 [00:03<00:00,  2.05it/s]\u001b[A\n",
      " 90%|███████████▋ | 9/10 [00:04<00:00,  2.04it/s]\u001b[A\n",
      "100%|████████████| 10/10 [00:04<00:00,  2.04it/s]\u001b[A\n",
      " 57%|██████▊     | 41/72 [07:19<05:34, 10.78s/it]"
     ]
    },
    {
     "name": "stdout",
     "output_type": "stream",
     "text": [
      "160 ['CHEBI:18067', 'NCBIGene:632', 'GO:0030282', 'DOID:80007']\n"
     ]
    },
    {
     "name": "stderr",
     "output_type": "stream",
     "text": [
      "\n",
      "  0%|                     | 0/10 [00:00<?, ?it/s]\u001b[A\n",
      " 10%|█▎           | 1/10 [00:00<00:04,  2.23it/s]\u001b[A\n",
      " 20%|██▌          | 2/10 [00:00<00:03,  2.20it/s]\u001b[A\n",
      " 30%|███▉         | 3/10 [00:01<00:03,  2.20it/s]\u001b[A\n",
      " 40%|█████▏       | 4/10 [00:01<00:02,  2.20it/s]\u001b[A\n",
      " 50%|██████▌      | 5/10 [00:02<00:02,  2.20it/s]\u001b[A\n",
      " 60%|███████▊     | 6/10 [00:02<00:01,  2.19it/s]\u001b[A\n",
      " 70%|█████████    | 7/10 [00:03<00:01,  2.18it/s]\u001b[A\n",
      " 80%|██████████▍  | 8/10 [00:03<00:00,  2.20it/s]\u001b[A\n",
      " 90%|███████████▋ | 9/10 [00:04<00:00,  2.20it/s]\u001b[A\n",
      "100%|████████████| 10/10 [00:04<00:00,  2.20it/s]\u001b[A\n",
      " 58%|███████     | 42/72 [07:31<05:31, 11.06s/it]\n",
      "  0%|                     | 0/10 [00:00<?, ?it/s]\u001b[A\n",
      " 10%|█▎           | 1/10 [00:00<00:04,  2.12it/s]\u001b[A\n",
      " 20%|██▌          | 2/10 [00:00<00:03,  2.09it/s]\u001b[A\n",
      " 30%|███▉         | 3/10 [00:01<00:03,  2.08it/s]\u001b[A\n",
      " 40%|█████▏       | 4/10 [00:01<00:02,  2.09it/s]\u001b[A\n",
      " 50%|██████▌      | 5/10 [00:02<00:02,  2.09it/s]\u001b[A\n",
      " 60%|███████▊     | 6/10 [00:02<00:01,  2.09it/s]\u001b[A\n",
      " 70%|█████████    | 7/10 [00:03<00:01,  2.10it/s]\u001b[A\n",
      " 80%|██████████▍  | 8/10 [00:03<00:00,  2.10it/s]\u001b[A\n",
      " 90%|███████████▋ | 9/10 [00:04<00:00,  2.10it/s]\u001b[A\n",
      "100%|████████████| 10/10 [00:04<00:00,  2.09it/s]\u001b[A\n",
      " 60%|███████▏    | 43/72 [07:40<05:01, 10.39s/it]"
     ]
    },
    {
     "name": "stdout",
     "output_type": "stream",
     "text": [
      "0 ['CHEBI:64318', 'NCBIGene:150', 'GO:0042310', 'MESH:D014653']\n",
      "2 ['CHEBI:64318', 'NCBIGene:3352', 'GO:0042310', 'MESH:D014653']\n",
      "3 ['CHEBI:64318', 'NCBIGene:152', 'GO:0042310', 'MESH:D014653']\n",
      "4 ['CHEBI:64318', 'NCBIGene:148', 'GO:0042310', 'MESH:D014653']\n",
      "5 ['CHEBI:64318', 'NCBIGene:151', 'GO:0042310', 'MESH:D014653']\n",
      "6 ['CHEBI:64318', 'NCBIGene:147', 'GO:0042310', 'MESH:D014653']\n",
      "7 ['CHEBI:64318', 'NCBIGene:146', 'GO:0042310', 'MESH:D014653']\n"
     ]
    },
    {
     "name": "stderr",
     "output_type": "stream",
     "text": [
      "\n",
      "  0%|                     | 0/10 [00:00<?, ?it/s]\u001b[A\n",
      " 10%|█▎           | 1/10 [00:00<00:03,  2.26it/s]\u001b[A\n",
      " 20%|██▌          | 2/10 [00:00<00:03,  2.25it/s]\u001b[A\n",
      " 30%|███▉         | 3/10 [00:01<00:03,  2.24it/s]\u001b[A\n",
      " 40%|█████▏       | 4/10 [00:01<00:02,  2.25it/s]\u001b[A\n",
      " 50%|██████▌      | 5/10 [00:02<00:02,  2.25it/s]\u001b[A\n",
      " 60%|███████▊     | 6/10 [00:02<00:01,  2.23it/s]\u001b[A\n",
      " 70%|█████████    | 7/10 [00:03<00:01,  2.22it/s]\u001b[A\n",
      " 80%|██████████▍  | 8/10 [00:03<00:00,  2.23it/s]\u001b[A\n",
      " 90%|███████████▋ | 9/10 [00:04<00:00,  2.24it/s]\u001b[A\n",
      "100%|████████████| 10/10 [00:04<00:00,  2.23it/s]\u001b[A\n",
      " 61%|███████▎    | 44/72 [07:48<04:32,  9.72s/it]"
     ]
    },
    {
     "name": "stdout",
     "output_type": "stream",
     "text": [
      "1 ['CHEBI:135809', 'NCBIGene:153', 'GO:0045823', 'DOID:0060224']\n"
     ]
    },
    {
     "name": "stderr",
     "output_type": "stream",
     "text": [
      "\n",
      "  0%|                     | 0/10 [00:00<?, ?it/s]\u001b[A\n",
      " 10%|█▎           | 1/10 [00:00<00:04,  2.10it/s]\u001b[A\n",
      " 20%|██▌          | 2/10 [00:00<00:03,  2.12it/s]\u001b[A\n",
      " 30%|███▉         | 3/10 [00:01<00:03,  2.13it/s]\u001b[A\n",
      " 40%|█████▏       | 4/10 [00:01<00:02,  2.13it/s]\u001b[A\n",
      " 50%|██████▌      | 5/10 [00:02<00:02,  2.13it/s]\u001b[A\n",
      " 60%|███████▊     | 6/10 [00:03<00:02,  1.42it/s]\u001b[A\n",
      " 70%|█████████    | 7/10 [00:03<00:01,  1.59it/s]\u001b[A\n",
      " 80%|██████████▍  | 8/10 [00:04<00:01,  1.73it/s]\u001b[A\n",
      " 90%|███████████▋ | 9/10 [00:04<00:00,  1.84it/s]\u001b[A\n",
      "100%|████████████| 10/10 [00:05<00:00,  1.85it/s]\u001b[A\n",
      " 62%|███████▌    | 45/72 [08:02<04:59, 11.10s/it]\n",
      "  0%|                     | 0/10 [00:00<?, ?it/s]\u001b[A\n",
      " 10%|█▎           | 1/10 [00:00<00:04,  2.23it/s]\u001b[A\n",
      " 20%|██▌          | 2/10 [00:00<00:03,  2.19it/s]\u001b[A\n",
      " 30%|███▉         | 3/10 [00:01<00:03,  2.19it/s]\u001b[A\n",
      " 40%|█████▏       | 4/10 [00:01<00:02,  2.18it/s]\u001b[A\n",
      " 50%|██████▌      | 5/10 [00:02<00:02,  2.19it/s]\u001b[A\n",
      " 60%|███████▊     | 6/10 [00:02<00:01,  2.18it/s]\u001b[A\n",
      " 70%|█████████    | 7/10 [00:03<00:01,  2.17it/s]\u001b[A\n",
      " 80%|██████████▍  | 8/10 [00:03<00:00,  2.18it/s]\u001b[A\n",
      " 90%|███████████▋ | 9/10 [00:04<00:00,  2.18it/s]\u001b[A\n",
      "100%|████████████| 10/10 [00:04<00:00,  2.18it/s]\u001b[A\n",
      " 64%|███████▋    | 46/72 [08:11<04:32, 10.49s/it]"
     ]
    },
    {
     "name": "stdout",
     "output_type": "stream",
     "text": [
      "2 ['CHEBI:134713', 'NCBIGene:5627', 'GO:0007596', 'MESH:D006470']\n",
      "3 ['CHEBI:134713', 'NCBIGene:2158', 'GO:0007596', 'MESH:D006470']\n",
      "4 ['CHEBI:134713', 'NCBIGene:5624', 'GO:0007596', 'MESH:D006470']\n",
      "5 ['CHEBI:134713', 'NCBIGene:2147', 'GO:0007596', 'MESH:D006470']\n",
      "6 ['CHEBI:134713', 'NCBIGene:2677', 'GO:0007596', 'MESH:D006470']\n",
      "7 ['CHEBI:134713', 'NCBIGene:2155', 'GO:0007596', 'MESH:D006470']\n",
      "8 ['CHEBI:134713', 'NCBIGene:2159', 'GO:0007596', 'MESH:D006470']\n"
     ]
    },
    {
     "name": "stderr",
     "output_type": "stream",
     "text": [
      "\n",
      "  0%|                     | 0/10 [00:00<?, ?it/s]\u001b[A\n",
      " 10%|█▎           | 1/10 [00:00<00:04,  2.06it/s]\u001b[A\n",
      " 20%|██▌          | 2/10 [00:00<00:03,  2.07it/s]\u001b[A\n",
      " 30%|███▉         | 3/10 [00:01<00:03,  2.07it/s]\u001b[A\n",
      " 40%|█████▏       | 4/10 [00:01<00:02,  2.06it/s]\u001b[A\n",
      " 50%|██████▌      | 5/10 [00:02<00:02,  2.06it/s]\u001b[A\n",
      " 60%|███████▊     | 6/10 [00:02<00:01,  2.06it/s]\u001b[A\n",
      " 70%|█████████    | 7/10 [00:03<00:01,  2.04it/s]\u001b[A\n",
      " 80%|██████████▍  | 8/10 [00:03<00:00,  2.05it/s]\u001b[A\n",
      " 90%|███████████▋ | 9/10 [00:04<00:00,  2.04it/s]\u001b[A\n",
      "100%|████████████| 10/10 [00:04<00:00,  2.04it/s]\u001b[A\n",
      " 65%|███████▊    | 47/72 [08:22<04:23, 10.55s/it]\n",
      "  0%|                     | 0/10 [00:00<?, ?it/s]\u001b[A\n",
      " 10%|█▎           | 1/10 [00:00<00:04,  2.10it/s]\u001b[A\n",
      " 20%|██▌          | 2/10 [00:00<00:03,  2.13it/s]\u001b[A\n",
      " 30%|███▉         | 3/10 [00:01<00:03,  2.15it/s]\u001b[A\n",
      " 40%|█████▏       | 4/10 [00:01<00:02,  2.15it/s]\u001b[A\n",
      " 50%|██████▌      | 5/10 [00:02<00:02,  2.15it/s]\u001b[A\n",
      " 60%|███████▊     | 6/10 [00:02<00:01,  2.14it/s]\u001b[A\n",
      " 70%|█████████    | 7/10 [00:03<00:01,  2.14it/s]\u001b[A\n",
      " 80%|██████████▍  | 8/10 [00:03<00:00,  2.16it/s]\u001b[A\n",
      " 90%|███████████▋ | 9/10 [00:04<00:00,  2.17it/s]\u001b[A\n",
      "100%|████████████| 10/10 [00:04<00:00,  2.15it/s]\u001b[A\n",
      " 67%|████████    | 48/72 [08:32<04:13, 10.58s/it]"
     ]
    },
    {
     "name": "stdout",
     "output_type": "stream",
     "text": [
      "131 ['CHEBI:77733', 'NCBIGene:5136', 'GO:0043025', 'DOID:1307']\n"
     ]
    },
    {
     "name": "stderr",
     "output_type": "stream",
     "text": [
      "\n",
      "  0%|                     | 0/10 [00:00<?, ?it/s]\u001b[A\n",
      " 10%|█▎           | 1/10 [00:00<00:03,  2.27it/s]\u001b[A\n",
      " 20%|██▌          | 2/10 [00:00<00:03,  2.29it/s]\u001b[A\n",
      " 30%|███▉         | 3/10 [00:01<00:03,  2.27it/s]\u001b[A\n",
      " 40%|█████▏       | 4/10 [00:01<00:02,  2.27it/s]\u001b[A\n",
      " 50%|██████▌      | 5/10 [00:02<00:02,  2.28it/s]\u001b[A\n",
      " 60%|███████▊     | 6/10 [00:02<00:01,  2.28it/s]\u001b[A\n",
      " 70%|█████████    | 7/10 [00:03<00:01,  2.27it/s]\u001b[A\n",
      " 80%|██████████▍  | 8/10 [00:03<00:00,  2.28it/s]\u001b[A\n",
      " 90%|███████████▋ | 9/10 [00:03<00:00,  2.30it/s]\u001b[A\n",
      "100%|████████████| 10/10 [00:04<00:00,  2.29it/s]\u001b[A\n",
      " 68%|████████▏   | 49/72 [08:43<04:00, 10.45s/it]"
     ]
    },
    {
     "name": "stdout",
     "output_type": "stream",
     "text": [
      "196 ['CHEBI:37941', 'NCBIGene:64805', 'GO:0070527', 'MESH:D054058']\n"
     ]
    },
    {
     "name": "stderr",
     "output_type": "stream",
     "text": [
      "\n",
      "  0%|                     | 0/10 [00:00<?, ?it/s]\u001b[A\n",
      " 10%|█▎           | 1/10 [00:00<00:04,  2.19it/s]\u001b[A\n",
      " 20%|██▌          | 2/10 [00:00<00:03,  2.21it/s]\u001b[A\n",
      " 30%|███▉         | 3/10 [00:01<00:03,  2.22it/s]\u001b[A\n",
      " 40%|█████▏       | 4/10 [00:01<00:02,  2.24it/s]\u001b[A\n",
      " 50%|██████▌      | 5/10 [00:02<00:02,  2.25it/s]\u001b[A\n",
      " 60%|███████▊     | 6/10 [00:02<00:01,  2.25it/s]\u001b[A\n",
      " 70%|█████████    | 7/10 [00:03<00:01,  2.23it/s]\u001b[A\n",
      " 80%|██████████▍  | 8/10 [00:03<00:00,  2.22it/s]\u001b[A\n",
      " 90%|███████████▋ | 9/10 [00:04<00:00,  2.22it/s]\u001b[A\n",
      "100%|████████████| 10/10 [00:04<00:00,  2.22it/s]\u001b[A\n",
      " 69%|████████▎   | 50/72 [08:53<03:50, 10.49s/it]\n",
      "  0%|                     | 0/10 [00:00<?, ?it/s]\u001b[A\n",
      " 10%|█▎           | 1/10 [00:00<00:03,  2.29it/s]\u001b[A\n",
      " 20%|██▌          | 2/10 [00:00<00:03,  2.30it/s]\u001b[A\n",
      " 30%|███▉         | 3/10 [00:01<00:03,  2.30it/s]\u001b[A\n",
      " 40%|█████▏       | 4/10 [00:01<00:02,  2.31it/s]\u001b[A\n",
      " 50%|██████▌      | 5/10 [00:02<00:02,  2.32it/s]\u001b[A\n",
      " 60%|███████▊     | 6/10 [00:02<00:01,  2.32it/s]\u001b[A\n",
      " 70%|█████████    | 7/10 [00:03<00:01,  2.33it/s]\u001b[A\n",
      " 80%|██████████▍  | 8/10 [00:03<00:00,  2.34it/s]\u001b[A\n",
      " 90%|███████████▋ | 9/10 [00:03<00:00,  2.34it/s]\u001b[A\n",
      "100%|████████████| 10/10 [00:04<00:00,  2.32it/s]\u001b[A\n",
      " 71%|████████▌   | 51/72 [09:03<03:38, 10.42s/it]"
     ]
    },
    {
     "name": "stdout",
     "output_type": "stream",
     "text": [
      "67 ['CHEBI:31548', 'NCBIGene:5739', 'GO:0006954', 'DOID:1205']\n"
     ]
    },
    {
     "name": "stderr",
     "output_type": "stream",
     "text": [
      "\n",
      "  0%|                     | 0/10 [00:00<?, ?it/s]\u001b[A\n",
      " 10%|█▎           | 1/10 [00:00<00:03,  2.32it/s]\u001b[A\n",
      " 20%|██▌          | 2/10 [00:00<00:03,  2.27it/s]\u001b[A\n",
      " 30%|███▉         | 3/10 [00:01<00:03,  2.28it/s]\u001b[A\n",
      " 40%|█████▏       | 4/10 [00:01<00:02,  2.28it/s]\u001b[A\n",
      " 50%|██████▌      | 5/10 [00:02<00:02,  2.29it/s]\u001b[A\n",
      " 60%|███████▊     | 6/10 [00:02<00:01,  2.29it/s]\u001b[A\n",
      " 70%|█████████    | 7/10 [00:03<00:01,  2.29it/s]\u001b[A\n",
      " 80%|██████████▍  | 8/10 [00:03<00:00,  2.29it/s]\u001b[A\n",
      " 90%|███████████▋ | 9/10 [00:03<00:00,  2.28it/s]\u001b[A\n",
      "100%|████████████| 10/10 [00:04<00:00,  2.28it/s]\u001b[A\n",
      " 72%|████████▋   | 52/72 [09:12<03:15,  9.77s/it]"
     ]
    },
    {
     "name": "stdout",
     "output_type": "stream",
     "text": [
      "28 ['CHEBI:134991', 'NCBIGene:3351', 'GO:0042310', 'DOID:6364']\n"
     ]
    },
    {
     "name": "stderr",
     "output_type": "stream",
     "text": [
      "\n",
      "  0%|                     | 0/10 [00:00<?, ?it/s]\u001b[A\n",
      " 10%|█▎           | 1/10 [00:00<00:04,  2.23it/s]\u001b[A\n",
      " 20%|██▌          | 2/10 [00:00<00:03,  2.22it/s]\u001b[A\n",
      " 30%|███▉         | 3/10 [00:01<00:03,  2.21it/s]\u001b[A\n",
      " 40%|█████▏       | 4/10 [00:01<00:02,  2.21it/s]\u001b[A\n",
      " 50%|██████▌      | 5/10 [00:02<00:02,  2.21it/s]\u001b[A\n",
      " 60%|███████▊     | 6/10 [00:02<00:01,  2.20it/s]\u001b[A\n",
      " 70%|█████████    | 7/10 [00:03<00:01,  2.21it/s]\u001b[A\n",
      " 80%|██████████▍  | 8/10 [00:03<00:00,  2.20it/s]\u001b[A\n",
      " 90%|███████████▋ | 9/10 [00:04<00:00,  2.20it/s]\u001b[A\n",
      "100%|████████████| 10/10 [00:04<00:00,  2.20it/s]\u001b[A\n",
      " 74%|████████▊   | 53/72 [09:21<03:01,  9.58s/it]"
     ]
    },
    {
     "name": "stdout",
     "output_type": "stream",
     "text": [
      "0 ['CHEBI:32193', 'NCBIGene:3357', 'DOID:6432']\n"
     ]
    },
    {
     "name": "stderr",
     "output_type": "stream",
     "text": [
      " 75%|█████████   | 54/72 [09:25<02:21,  7.85s/it]\n",
      "  0%|                     | 0/10 [00:00<?, ?it/s]\u001b[A\n",
      " 10%|█▎           | 1/10 [00:00<00:03,  2.32it/s]\u001b[A\n",
      " 20%|██▌          | 2/10 [00:00<00:03,  2.31it/s]\u001b[A\n",
      " 30%|███▉         | 3/10 [00:01<00:03,  2.31it/s]\u001b[A\n",
      " 40%|█████▏       | 4/10 [00:01<00:02,  2.29it/s]\u001b[A\n",
      " 50%|██████▌      | 5/10 [00:02<00:02,  2.28it/s]\u001b[A\n",
      " 60%|███████▊     | 6/10 [00:02<00:01,  2.28it/s]\u001b[A\n",
      " 70%|█████████    | 7/10 [00:03<00:01,  2.28it/s]\u001b[A\n",
      " 80%|██████████▍  | 8/10 [00:03<00:00,  2.29it/s]\u001b[A\n",
      " 90%|███████████▋ | 9/10 [00:03<00:00,  2.29it/s]\u001b[A\n",
      "100%|████████████| 10/10 [00:04<00:00,  2.29it/s]\u001b[A\n",
      " 76%|█████████▏  | 55/72 [09:34<02:19,  8.19s/it]"
     ]
    },
    {
     "name": "stdout",
     "output_type": "stream",
     "text": [
      "16 ['CHEBI:31783', 'NCBIGene:5742', 'GO:0006954', 'DOID:60145']\n",
      "21 ['CHEBI:31783', 'NCBIGene:5743', 'GO:0006954', 'DOID:60145']\n"
     ]
    },
    {
     "name": "stderr",
     "output_type": "stream",
     "text": [
      "\n",
      "  0%|                     | 0/10 [00:00<?, ?it/s]\u001b[A\n",
      " 10%|█▎           | 1/10 [00:00<00:04,  2.07it/s]\u001b[A\n",
      " 20%|██▌          | 2/10 [00:00<00:03,  2.06it/s]\u001b[A\n",
      " 30%|███▉         | 3/10 [00:01<00:03,  2.08it/s]\u001b[A\n",
      " 40%|█████▏       | 4/10 [00:02<00:04,  1.26it/s]\u001b[A\n",
      " 50%|██████▌      | 5/10 [00:03<00:03,  1.48it/s]\u001b[A\n",
      " 60%|███████▊     | 6/10 [00:03<00:02,  1.65it/s]\u001b[A\n",
      " 70%|█████████    | 7/10 [00:04<00:01,  1.78it/s]\u001b[A\n",
      " 80%|██████████▍  | 8/10 [00:04<00:01,  1.87it/s]\u001b[A\n",
      " 90%|███████████▋ | 9/10 [00:05<00:00,  1.95it/s]\u001b[A\n",
      "100%|████████████| 10/10 [00:05<00:00,  1.80it/s]\u001b[A\n",
      " 78%|█████████▎  | 56/72 [09:45<02:27,  9.25s/it]"
     ]
    },
    {
     "name": "stdout",
     "output_type": "stream",
     "text": [
      "3 ['CHEBI:36560', 'GO:0006954', 'DOID:0050486']\n"
     ]
    },
    {
     "name": "stderr",
     "output_type": "stream",
     "text": [
      "\n",
      "  0%|                     | 0/10 [00:00<?, ?it/s]\u001b[A\n",
      " 10%|█▎           | 1/10 [00:00<00:05,  1.71it/s]\u001b[A\n",
      " 20%|██▌          | 2/10 [00:01<00:04,  1.74it/s]\u001b[A\n",
      " 30%|███▉         | 3/10 [00:01<00:03,  1.77it/s]\u001b[A\n",
      " 40%|█████▏       | 4/10 [00:02<00:03,  1.80it/s]\u001b[A\n",
      " 50%|██████▌      | 5/10 [00:02<00:02,  1.81it/s]\u001b[A\n",
      " 60%|███████▊     | 6/10 [00:03<00:02,  1.82it/s]\u001b[A\n",
      " 70%|█████████    | 7/10 [00:03<00:01,  1.84it/s]\u001b[A\n",
      " 80%|██████████▍  | 8/10 [00:04<00:01,  1.86it/s]\u001b[A\n",
      " 90%|███████████▋ | 9/10 [00:04<00:00,  1.86it/s]\u001b[A\n",
      "100%|████████████| 10/10 [00:05<00:00,  1.83it/s]\u001b[A\n",
      " 79%|█████████▌  | 57/72 [09:59<02:38, 10.59s/it]\n",
      "  0%|                     | 0/10 [00:00<?, ?it/s]\u001b[A\n",
      " 10%|█▎           | 1/10 [00:00<00:04,  1.87it/s]\u001b[A\n",
      " 20%|██▌          | 2/10 [00:01<00:04,  1.94it/s]\u001b[A\n",
      " 30%|███▉         | 3/10 [00:01<00:03,  1.97it/s]\u001b[A\n",
      " 40%|█████▏       | 4/10 [00:02<00:03,  1.99it/s]\u001b[A\n",
      " 50%|██████▌      | 5/10 [00:02<00:02,  2.02it/s]\u001b[A\n",
      " 60%|███████▊     | 6/10 [00:03<00:01,  2.02it/s]\u001b[A\n",
      " 70%|█████████    | 7/10 [00:03<00:01,  2.02it/s]\u001b[A\n",
      " 80%|██████████▍  | 8/10 [00:03<00:00,  2.03it/s]\u001b[A\n",
      " 90%|███████████▋ | 9/10 [00:04<00:00,  2.02it/s]\u001b[A\n",
      "100%|████████████| 10/10 [00:04<00:00,  2.01it/s]\u001b[A\n",
      " 81%|█████████▋  | 58/72 [10:12<02:40, 11.46s/it]"
     ]
    },
    {
     "name": "stdout",
     "output_type": "stream",
     "text": [
      "104 ['CHEBI:4708', 'NCBIGene:148', 'GO:0042310', 'DOID:10763']\n",
      "108 ['CHEBI:4708', 'NCBIGene:146', 'GO:0042310', 'DOID:10763']\n"
     ]
    },
    {
     "name": "stderr",
     "output_type": "stream",
     "text": [
      "\n",
      "  0%|                     | 0/10 [00:00<?, ?it/s]\u001b[A\n",
      " 10%|█▎           | 1/10 [00:00<00:03,  2.26it/s]\u001b[A\n",
      " 20%|██▌          | 2/10 [00:00<00:03,  2.23it/s]\u001b[A\n",
      " 30%|███▉         | 3/10 [00:01<00:03,  2.22it/s]\u001b[A\n",
      " 40%|█████▏       | 4/10 [00:01<00:02,  2.22it/s]\u001b[A\n",
      " 50%|██████▌      | 5/10 [00:02<00:02,  2.22it/s]\u001b[A\n",
      " 60%|███████▊     | 6/10 [00:02<00:01,  2.20it/s]\u001b[A\n",
      " 70%|█████████    | 7/10 [00:03<00:01,  2.17it/s]\u001b[A\n",
      " 80%|██████████▍  | 8/10 [00:03<00:00,  2.13it/s]\u001b[A\n",
      " 90%|███████████▋ | 9/10 [00:04<00:00,  2.10it/s]\u001b[A\n",
      "100%|████████████| 10/10 [00:04<00:00,  2.15it/s]\u001b[A\n",
      " 82%|█████████▊  | 59/72 [10:28<02:45, 12.77s/it]\n",
      "  0%|                     | 0/10 [00:00<?, ?it/s]\u001b[A\n",
      " 10%|█▎           | 1/10 [00:00<00:04,  2.01it/s]\u001b[A\n",
      " 20%|██▌          | 2/10 [00:00<00:03,  2.07it/s]\u001b[A\n",
      " 30%|███▉         | 3/10 [00:01<00:03,  2.09it/s]\u001b[A\n",
      " 40%|█████▏       | 4/10 [00:02<00:04,  1.34it/s]\u001b[A\n",
      " 50%|██████▌      | 5/10 [00:03<00:03,  1.54it/s]\u001b[A\n",
      " 60%|███████▊     | 6/10 [00:03<00:02,  1.69it/s]\u001b[A\n",
      " 70%|█████████    | 7/10 [00:04<00:01,  1.81it/s]\u001b[A\n",
      " 80%|██████████▍  | 8/10 [00:04<00:01,  1.90it/s]\u001b[A\n",
      " 90%|███████████▋ | 9/10 [00:04<00:00,  1.96it/s]\u001b[A\n",
      "100%|████████████| 10/10 [00:05<00:00,  1.84it/s]\u001b[A\n",
      " 83%|██████████  | 60/72 [10:42<02:35, 12.98s/it]"
     ]
    },
    {
     "name": "stdout",
     "output_type": "stream",
     "text": [
      "29 ['CHEBI:72690', 'NCBIGene:7124', 'GO:0008283', 'DOID:70004']\n",
      "33 ['CHEBI:72690', 'NCBIGene:7422', 'GO:0001525', 'DOID:70004']\n"
     ]
    },
    {
     "name": "stderr",
     "output_type": "stream",
     "text": [
      "\n",
      "  0%|                     | 0/10 [00:00<?, ?it/s]\u001b[A\n",
      " 10%|█▎           | 1/10 [00:00<00:03,  2.42it/s]\u001b[A\n",
      " 20%|██▌          | 2/10 [00:00<00:03,  2.40it/s]\u001b[A\n",
      " 30%|███▉         | 3/10 [00:01<00:02,  2.40it/s]\u001b[A\n",
      " 40%|█████▏       | 4/10 [00:01<00:02,  2.40it/s]\u001b[A\n",
      " 50%|██████▌      | 5/10 [00:02<00:02,  2.38it/s]\u001b[A\n",
      " 60%|███████▊     | 6/10 [00:02<00:01,  2.39it/s]\u001b[A\n",
      " 70%|█████████    | 7/10 [00:02<00:01,  2.40it/s]\u001b[A\n",
      " 80%|██████████▍  | 8/10 [00:03<00:00,  2.41it/s]\u001b[A\n",
      " 90%|███████████▋ | 9/10 [00:03<00:00,  2.40it/s]\u001b[A\n",
      "100%|████████████| 10/10 [00:04<00:00,  2.40it/s]\u001b[A\n",
      " 85%|██████████▏ | 61/72 [10:50<02:05, 11.45s/it]"
     ]
    },
    {
     "name": "stdout",
     "output_type": "stream",
     "text": [
      "9 ['IKEY:UBVZQGOVTLIHLH-UHFFFAOYSA-N', 'NCBIGene:7498', 'CHEBI:46811', 'DOID:13189']\n"
     ]
    },
    {
     "name": "stderr",
     "output_type": "stream",
     "text": [
      "\n",
      "  0%|                     | 0/10 [00:00<?, ?it/s]\u001b[A\n",
      " 10%|█▎           | 1/10 [00:00<00:04,  2.09it/s]\u001b[A\n",
      " 20%|██▌          | 2/10 [00:00<00:03,  2.11it/s]\u001b[A\n",
      " 30%|███▉         | 3/10 [00:01<00:03,  2.11it/s]\u001b[A\n",
      " 40%|█████▏       | 4/10 [00:01<00:02,  2.12it/s]\u001b[A\n",
      " 50%|██████▌      | 5/10 [00:02<00:02,  2.12it/s]\u001b[A\n",
      " 60%|███████▊     | 6/10 [00:02<00:01,  2.15it/s]\u001b[A\n",
      " 70%|█████████    | 7/10 [00:03<00:01,  2.16it/s]\u001b[A\n",
      " 80%|██████████▍  | 8/10 [00:03<00:00,  2.15it/s]\u001b[A\n",
      " 90%|███████████▋ | 9/10 [00:04<00:00,  2.16it/s]\u001b[A\n",
      "100%|████████████| 10/10 [00:04<00:00,  2.15it/s]\u001b[A\n",
      " 86%|██████████▎ | 62/72 [11:01<01:53, 11.33s/it]\n",
      "  0%|                     | 0/10 [00:00<?, ?it/s]\u001b[A\n",
      " 10%|█▎           | 1/10 [00:00<00:04,  2.24it/s]\u001b[A\n",
      " 20%|██▌          | 2/10 [00:00<00:03,  2.23it/s]\u001b[A\n",
      " 30%|███▉         | 3/10 [00:01<00:03,  2.20it/s]\u001b[A\n",
      " 40%|█████▏       | 4/10 [00:01<00:02,  2.21it/s]\u001b[A\n",
      " 50%|██████▌      | 5/10 [00:02<00:02,  2.22it/s]\u001b[A\n",
      " 60%|███████▊     | 6/10 [00:02<00:01,  2.23it/s]\u001b[A\n",
      " 70%|█████████    | 7/10 [00:03<00:01,  2.23it/s]\u001b[A\n",
      " 80%|██████████▍  | 8/10 [00:03<00:00,  2.23it/s]\u001b[A\n",
      " 90%|███████████▋ | 9/10 [00:04<00:00,  2.22it/s]\u001b[A\n",
      "100%|████████████| 10/10 [00:04<00:00,  2.22it/s]\u001b[A\n",
      " 88%|██████████▌ | 63/72 [11:09<01:33, 10.42s/it]"
     ]
    },
    {
     "name": "stdout",
     "output_type": "stream",
     "text": [
      "1 ['CHEBI:90951', 'NCBIGene:1080', 'DOID:1485']\n"
     ]
    },
    {
     "name": "stderr",
     "output_type": "stream",
     "text": [
      "\n",
      "  0%|                     | 0/10 [00:00<?, ?it/s]\u001b[A\n",
      " 10%|█▎           | 1/10 [00:00<00:03,  2.36it/s]\u001b[A\n",
      " 20%|██▌          | 2/10 [00:00<00:03,  2.33it/s]\u001b[A\n",
      " 30%|███▉         | 3/10 [00:01<00:03,  2.33it/s]\u001b[A\n",
      " 40%|█████▏       | 4/10 [00:01<00:02,  2.34it/s]\u001b[A\n",
      " 50%|██████▌      | 5/10 [00:02<00:02,  2.32it/s]\u001b[A\n",
      " 60%|███████▊     | 6/10 [00:02<00:01,  2.30it/s]\u001b[A\n",
      " 70%|█████████    | 7/10 [00:03<00:01,  2.30it/s]\u001b[A\n",
      " 80%|██████████▍  | 8/10 [00:04<00:01,  1.46it/s]\u001b[A\n",
      " 90%|███████████▋ | 9/10 [00:04<00:00,  1.65it/s]\u001b[A\n",
      "100%|████████████| 10/10 [00:05<00:00,  1.95it/s]\u001b[A\n",
      " 89%|██████████▋ | 64/72 [11:19<01:21, 10.22s/it]"
     ]
    },
    {
     "name": "stdout",
     "output_type": "stream",
     "text": [
      "103 ['CHEBI:63620', 'NCBIGene:596', 'GO:0051402', 'DOID:14330']\n"
     ]
    },
    {
     "name": "stderr",
     "output_type": "stream",
     "text": [
      "\n",
      "  0%|                     | 0/10 [00:00<?, ?it/s]\u001b[A\n",
      " 10%|█▎           | 1/10 [00:01<00:09,  1.11s/it]\u001b[A\n",
      " 20%|██▌          | 2/10 [00:01<00:05,  1.38it/s]\u001b[A\n",
      " 30%|███▉         | 3/10 [00:02<00:04,  1.67it/s]\u001b[A\n",
      " 40%|█████▏       | 4/10 [00:02<00:03,  1.86it/s]\u001b[A\n",
      " 50%|██████▌      | 5/10 [00:02<00:02,  1.98it/s]\u001b[A\n",
      " 60%|███████▊     | 6/10 [00:03<00:01,  2.06it/s]\u001b[A\n",
      " 70%|█████████    | 7/10 [00:03<00:01,  2.11it/s]\u001b[A\n",
      " 80%|██████████▍  | 8/10 [00:04<00:00,  2.15it/s]\u001b[A\n",
      " 90%|███████████▋ | 9/10 [00:04<00:00,  2.17it/s]\u001b[A\n",
      "100%|████████████| 10/10 [00:05<00:00,  1.94it/s]\u001b[A\n",
      " 90%|██████████▊ | 65/72 [11:30<01:12, 10.40s/it]\n",
      "  0%|                     | 0/10 [00:00<?, ?it/s]\u001b[A\n",
      " 10%|█▎           | 1/10 [00:00<00:03,  2.46it/s]\u001b[A\n",
      " 20%|██▌          | 2/10 [00:00<00:03,  2.43it/s]\u001b[A\n",
      " 30%|███▉         | 3/10 [00:01<00:02,  2.42it/s]\u001b[A\n",
      " 40%|█████▏       | 4/10 [00:01<00:02,  2.41it/s]\u001b[A\n",
      " 50%|██████▌      | 5/10 [00:02<00:02,  2.41it/s]\u001b[A\n",
      " 60%|███████▊     | 6/10 [00:02<00:01,  2.42it/s]\u001b[A\n",
      " 70%|█████████    | 7/10 [00:02<00:01,  2.42it/s]\u001b[A\n",
      " 80%|██████████▍  | 8/10 [00:03<00:00,  2.42it/s]\u001b[A\n",
      " 90%|███████████▋ | 9/10 [00:03<00:00,  2.42it/s]\u001b[A\n",
      "100%|████████████| 10/10 [00:04<00:00,  2.41it/s]\u001b[A\n",
      " 92%|███████████ | 66/72 [11:37<00:57,  9.64s/it]"
     ]
    },
    {
     "name": "stdout",
     "output_type": "stream",
     "text": [
      "1 ['CHEBI:59176', 'NCBIGene:5743', 'GO:0001516', 'DOID:60145']\n",
      "2 ['CHEBI:59176', 'NCBIGene:5742', 'GO:0001516', 'DOID:60145']\n"
     ]
    },
    {
     "name": "stderr",
     "output_type": "stream",
     "text": [
      "\n",
      "  0%|                     | 0/10 [00:00<?, ?it/s]\u001b[A\n",
      " 10%|█▎           | 1/10 [00:00<00:04,  2.16it/s]\u001b[A\n",
      " 20%|██▌          | 2/10 [00:00<00:03,  2.16it/s]\u001b[A\n",
      " 30%|███▉         | 3/10 [00:01<00:03,  2.15it/s]\u001b[A\n",
      " 40%|█████▏       | 4/10 [00:01<00:02,  2.15it/s]\u001b[A\n",
      " 50%|██████▌      | 5/10 [00:02<00:02,  2.14it/s]\u001b[A\n",
      " 60%|███████▊     | 6/10 [00:02<00:01,  2.14it/s]\u001b[A\n",
      " 70%|█████████    | 7/10 [00:03<00:01,  2.14it/s]\u001b[A\n",
      " 80%|██████████▍  | 8/10 [00:03<00:00,  2.14it/s]\u001b[A\n",
      " 90%|███████████▋ | 9/10 [00:04<00:00,  2.14it/s]\u001b[A\n",
      "100%|████████████| 10/10 [00:04<00:00,  2.15it/s]\u001b[A\n",
      " 93%|███████████▏| 67/72 [11:46<00:46,  9.32s/it]"
     ]
    },
    {
     "name": "stdout",
     "output_type": "stream",
     "text": [
      "5 ['CHEBI:4562', 'NCBIGene:3351', 'GO:0042310', 'MESH:D014653']\n",
      "7 ['CHEBI:4562', 'NCBIGene:3352', 'GO:0042310', 'MESH:D014653']\n"
     ]
    },
    {
     "name": "stderr",
     "output_type": "stream",
     "text": [
      "\n",
      "  0%|                     | 0/10 [00:00<?, ?it/s]\u001b[A\n",
      " 10%|█▎           | 1/10 [00:00<00:04,  2.10it/s]\u001b[A\n",
      " 20%|██▌          | 2/10 [00:00<00:03,  2.06it/s]\u001b[A\n",
      " 30%|███▉         | 3/10 [00:01<00:03,  2.05it/s]\u001b[A\n",
      " 40%|█████▏       | 4/10 [00:01<00:02,  2.04it/s]\u001b[A\n",
      " 50%|██████▌      | 5/10 [00:02<00:02,  2.03it/s]\u001b[A\n",
      " 60%|███████▊     | 6/10 [00:02<00:01,  2.03it/s]\u001b[A\n",
      " 70%|█████████    | 7/10 [00:03<00:01,  2.04it/s]\u001b[A\n",
      " 80%|██████████▍  | 8/10 [00:03<00:00,  2.04it/s]\u001b[A\n",
      " 90%|███████████▋ | 9/10 [00:04<00:00,  2.04it/s]\u001b[A\n",
      "100%|████████████| 10/10 [00:04<00:00,  2.04it/s]\u001b[A\n",
      " 94%|███████████▎| 68/72 [11:57<00:39,  9.89s/it]"
     ]
    },
    {
     "name": "stdout",
     "output_type": "stream",
     "text": [
      "8 ['CHEBI:64318', 'NCBIGene:148', 'GO:0042310', 'DOID:60164']\n",
      "11 ['CHEBI:64318', 'NCBIGene:3352', 'GO:0042310', 'DOID:60164']\n",
      "13 ['CHEBI:64318', 'NCBIGene:146', 'GO:0042310', 'DOID:60164']\n",
      "14 ['CHEBI:64318', 'NCBIGene:147', 'GO:0042310', 'DOID:60164']\n",
      "15 ['CHEBI:64318', 'NCBIGene:152', 'GO:0042310', 'DOID:60164']\n",
      "28 ['CHEBI:64318', 'NCBIGene:151', 'GO:0042310', 'DOID:60164']\n",
      "30 ['CHEBI:64318', 'NCBIGene:150', 'GO:0042310', 'DOID:60164']\n"
     ]
    },
    {
     "name": "stderr",
     "output_type": "stream",
     "text": [
      "\n",
      "  0%|                     | 0/10 [00:00<?, ?it/s]\u001b[A\n",
      " 10%|█▎           | 1/10 [00:00<00:03,  2.25it/s]\u001b[A\n",
      " 20%|██▌          | 2/10 [00:00<00:03,  2.25it/s]\u001b[A\n",
      " 30%|███▉         | 3/10 [00:01<00:03,  2.23it/s]\u001b[A\n",
      " 40%|█████▏       | 4/10 [00:01<00:02,  2.23it/s]\u001b[A\n",
      " 50%|██████▌      | 5/10 [00:02<00:02,  2.23it/s]\u001b[A\n",
      " 60%|███████▊     | 6/10 [00:02<00:01,  2.21it/s]\u001b[A\n",
      " 70%|█████████    | 7/10 [00:03<00:01,  2.21it/s]\u001b[A\n",
      " 80%|██████████▍  | 8/10 [00:03<00:00,  2.22it/s]\u001b[A\n",
      " 90%|███████████▋ | 9/10 [00:04<00:00,  2.22it/s]\u001b[A\n",
      "100%|████████████| 10/10 [00:04<00:00,  2.22it/s]\u001b[A\n",
      " 96%|███████████▌| 69/72 [12:07<00:29,  9.85s/it]"
     ]
    },
    {
     "name": "stdout",
     "output_type": "stream",
     "text": [
      "7 ['CHEBI:64354', 'NCBIGene:6559', 'GO:0055078', 'DOID:10763']\n"
     ]
    },
    {
     "name": "stderr",
     "output_type": "stream",
     "text": [
      "\n",
      "  0%|                     | 0/10 [00:00<?, ?it/s]\u001b[A\n",
      " 10%|█▎           | 1/10 [00:00<00:04,  2.24it/s]\u001b[A\n",
      " 20%|██▌          | 2/10 [00:00<00:03,  2.20it/s]\u001b[A\n",
      " 30%|███▉         | 3/10 [00:01<00:03,  2.20it/s]\u001b[A\n",
      " 40%|█████▏       | 4/10 [00:01<00:02,  2.20it/s]\u001b[A\n",
      " 50%|██████▌      | 5/10 [00:02<00:02,  2.19it/s]\u001b[A\n",
      " 60%|███████▊     | 6/10 [00:02<00:01,  2.18it/s]\u001b[A\n",
      " 70%|█████████    | 7/10 [00:03<00:01,  2.18it/s]\u001b[A\n",
      " 80%|██████████▍  | 8/10 [00:03<00:00,  2.18it/s]\u001b[A\n",
      " 90%|███████████▋ | 9/10 [00:04<00:00,  2.18it/s]\u001b[A\n",
      "100%|████████████| 10/10 [00:04<00:00,  2.19it/s]\u001b[A\n",
      " 97%|███████████▋| 70/72 [12:17<00:19,  9.95s/it]"
     ]
    },
    {
     "name": "stdout",
     "output_type": "stream",
     "text": [
      "5 ['CHEBI:16359', 'NCBIGene:1593', 'DOID:4810']\n"
     ]
    },
    {
     "name": "stderr",
     "output_type": "stream",
     "text": [
      "\n",
      "  0%|                     | 0/10 [00:00<?, ?it/s]\u001b[A\n",
      " 10%|█▎           | 1/10 [00:00<00:04,  2.16it/s]\u001b[A\n",
      " 20%|██▌          | 2/10 [00:00<00:03,  2.13it/s]\u001b[A\n",
      " 30%|███▉         | 3/10 [00:01<00:03,  2.13it/s]\u001b[A\n",
      " 40%|█████▏       | 4/10 [00:01<00:02,  2.15it/s]\u001b[A\n",
      " 50%|██████▌      | 5/10 [00:02<00:02,  2.14it/s]\u001b[A\n",
      " 60%|███████▊     | 6/10 [00:02<00:01,  2.15it/s]\u001b[A\n",
      " 70%|█████████    | 7/10 [00:03<00:01,  2.15it/s]\u001b[A\n",
      " 80%|██████████▍  | 8/10 [00:03<00:00,  2.15it/s]\u001b[A\n",
      " 90%|███████████▋ | 9/10 [00:04<00:00,  2.15it/s]\u001b[A\n",
      "100%|████████████| 10/10 [00:04<00:00,  2.14it/s]\u001b[A\n",
      " 99%|███████████▊| 71/72 [12:29<00:10, 10.42s/it]\n",
      "  0%|                     | 0/10 [00:00<?, ?it/s]\u001b[A\n",
      " 10%|█▎           | 1/10 [00:00<00:04,  1.91it/s]\u001b[A\n",
      " 20%|██▌          | 2/10 [00:01<00:04,  1.91it/s]\u001b[A\n",
      " 30%|███▉         | 3/10 [00:01<00:03,  1.93it/s]\u001b[A\n",
      " 40%|█████▏       | 4/10 [00:02<00:03,  1.92it/s]\u001b[A\n",
      " 50%|██████▌      | 5/10 [00:02<00:02,  1.92it/s]\u001b[A\n",
      " 60%|███████▊     | 6/10 [00:03<00:02,  1.93it/s]\u001b[A\n",
      " 70%|█████████    | 7/10 [00:03<00:01,  1.93it/s]\u001b[A\n",
      " 80%|██████████▍  | 8/10 [00:04<00:01,  1.94it/s]\u001b[A\n",
      " 90%|███████████▋ | 9/10 [00:04<00:00,  1.94it/s]\u001b[A\n",
      "100%|████████████| 10/10 [00:05<00:00,  1.93it/s]\u001b[A\n",
      "100%|████████████| 72/72 [12:40<00:00, 10.57s/it]"
     ]
    },
    {
     "name": "stdout",
     "output_type": "stream",
     "text": [
      "152 ['CHEBI:8502', 'NCBIGene:7173', 'GO:0006590', 'DOID:7998']\n"
     ]
    },
    {
     "name": "stderr",
     "output_type": "stream",
     "text": [
      "\n"
     ]
    }
   ],
   "source": [
    "for drug_id, dis_id in tqdm(dmdb_pairs):\n",
    "    try:\n",
    "        orig_pred, ml_ghomo, ml_eweight_dict, ml_ghomo_eweights, ntype_hetero_nids_to_homo_nids, nn_graph, nn_idx, paths = explainer.explain(drug_id, \n",
    "                                                                                                       dis_id, \n",
    "                                                                                                       dataset_obj, \n",
    "                                                                                                      True, \n",
    "                                                                                                        args.split)\n",
    "    \n",
    "    except:\n",
    "        continue \n",
    "        \n",
    "    #extract seuqnce of nodes\n",
    "    list_src_paths = []\n",
    "    for i in range(len(paths)):\n",
    "\n",
    "        src_path = []\n",
    "        for path in paths[i]:\n",
    "            src, edge, tgt = path[0], path[1], path[2]\n",
    "            src_path.append(src)\n",
    "        src_path.append(dis_id)\n",
    "        list_src_paths.append(src_path)\n",
    "    \n",
    "    #DMDB paths\n",
    "    true_paths = dmdb_paths.query(\"mrn_drug == @drug_id & mrn_dis == @dis_id\")['path_mrn'].to_list()\n",
    "\n",
    "    \n",
    "    #Evaluate ranking\n",
    "    total_paths[(drug_id, dis_id)].append(len(paths))\n",
    "    for i in range(len(list_src_paths)):\n",
    "        if list_src_paths[i] in true_paths:\n",
    "            hit_ranking[(drug_id, dis_id)].append(i)\n",
    "            print(i, list_src_paths[i])"
   ]
  },
  {
   "cell_type": "code",
   "execution_count": null,
   "id": "a99f5331",
   "metadata": {},
   "outputs": [],
   "source": []
  },
  {
   "cell_type": "markdown",
   "id": "0d5938b5",
   "metadata": {},
   "source": [
    "Evaluate Results"
   ]
  },
  {
   "cell_type": "code",
   "execution_count": 16,
   "id": "2a261bd0",
   "metadata": {},
   "outputs": [],
   "source": [
    "pair_list =[]\n",
    "rank_list =[]\n",
    "total = []\n",
    "\n",
    "for pair in (hit_ranking): \n",
    "    for rank in (hit_ranking[pair]):\n",
    "        if rank == \"NA\":\n",
    "            continue\n",
    "        pair_list.append(pair)\n",
    "        rank_list.append(rank +1)\n",
    "        total.append(total_paths[pair][0])\n",
    "path_ranking = pd.DataFrame()\n",
    "path_ranking[\"pair\"] =pair_list\n",
    "path_ranking[\"rank\"] =rank_list\n",
    "path_ranking[\"total_paths\"] =total"
   ]
  },
  {
   "cell_type": "code",
   "execution_count": 17,
   "id": "92f89d8a",
   "metadata": {},
   "outputs": [
    {
     "name": "stdout",
     "output_type": "stream",
     "text": [
      "MRR:  0.15254399611871386\n"
     ]
    }
   ],
   "source": [
    "#calculate MRR\n",
    "rr_results = []\n",
    "for rank_item in path_ranking[\"rank\"]:\n",
    "    rr_results.append(1/rank_item)\n",
    "print(\"MRR: \", np.sum(rr_results) / len(rr_results))"
   ]
  },
  {
   "cell_type": "code",
   "execution_count": 21,
   "id": "ff5c48db",
   "metadata": {},
   "outputs": [],
   "source": [
    "hits = [10, 50, 100, 150]"
   ]
  },
  {
   "cell_type": "code",
   "execution_count": 22,
   "id": "ed09b3e3",
   "metadata": {},
   "outputs": [
    {
     "name": "stdout",
     "output_type": "stream",
     "text": [
      "10 0.4090909090909091\n",
      "50 0.7159090909090909\n",
      "100 0.7840909090909091\n",
      "150 0.8863636363636364\n"
     ]
    }
   ],
   "source": [
    "for hit in hits:\n",
    "    result = len([i for i in path_ranking['rank'] if i <= hit]) /len(rr_results)\n",
    "    print(hit, result)"
   ]
  },
  {
   "cell_type": "code",
   "execution_count": null,
   "id": "c433b61d",
   "metadata": {},
   "outputs": [],
   "source": []
  },
  {
   "cell_type": "code",
   "execution_count": null,
   "id": "3338dead",
   "metadata": {},
   "outputs": [],
   "source": []
  }
 ],
 "metadata": {
  "kernelspec": {
   "display_name": "Python 3 (ipykernel)",
   "language": "python",
   "name": "python3"
  },
  "language_info": {
   "codemirror_mode": {
    "name": "ipython",
    "version": 3
   },
   "file_extension": ".py",
   "mimetype": "text/x-python",
   "name": "python",
   "nbconvert_exporter": "python",
   "pygments_lexer": "ipython3",
   "version": "3.12.3"
  }
 },
 "nbformat": 4,
 "nbformat_minor": 5
}
